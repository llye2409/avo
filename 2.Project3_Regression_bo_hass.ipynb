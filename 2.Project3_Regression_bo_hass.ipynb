{
 "cells": [
  {
   "cell_type": "markdown",
   "id": "81b96178",
   "metadata": {},
   "source": [
    "# Bước 1: Business Understanding"
   ]
  },
  {
   "cell_type": "markdown",
   "id": "480a0f7d",
   "metadata": {},
   "source": [
    "**- Vấn đề:**\n",
    "Hiện tại: Công ty kinh doanh quả bơ ở rất nhiều vùng của\n",
    "nước Mỹ với 2 loại bơ là bơ thường và bơ hữu cơ, được\n",
    "đóng gói theo nhiều quy chuẩn (Small/Large/XLarge Bags),\n",
    "và có 3 PLU (Product Look Up) khác nhau (4046, 4225,\n",
    "4770). Nhưng họ chưa có mô hình để dự đoán giá bơ cho\n",
    "việc mở rộng\n",
    "\n",
    "**=> Mục tiêu/ Vấn đề:** Xây dựng mô hình dự đoán giá trung\n",
    "bình của bơ “Hass” ở Mỹ => xem xét việc mở rộng sản xuất,\n",
    "kinh doanh."
   ]
  },
  {
   "cell_type": "markdown",
   "id": "f36e9946",
   "metadata": {},
   "source": [
    "# Bước 2: Data Understanding/ Acquire"
   ]
  },
  {
   "cell_type": "markdown",
   "id": "22464f60",
   "metadata": {},
   "source": [
    "- Dữ liệu được lấy trực tiếp từ máy tính tiền của các nhà bán\n",
    "lẻ dựa trên doanh số bán lẻ thực tế của bơ Hass.\n",
    "- Dữ liệu đại diện cho dữ liệu lấy từ máy quét bán lẻ hàng\n",
    "tuần cho lượng bán lẻ (National retail volume- units) và giá\n",
    "bơ từ tháng 4/2015 đến tháng 3/2018.\n",
    "- Giá Trung bình (Average Price) trong bảng phản ánh giá\n",
    "trên một đơn vị (mỗi quả bơ), ngay cả khi nhiều đơn vị (bơ)\n",
    "được bán trong bao.\n",
    "- Mã tra cứu sản phẩm - Product Lookup codes (PLU’s) trong\n",
    "bảng chỉ dành cho bơ Hass, không dành cho các sản phẩm\n",
    "khác.\n",
    "- Toàn bộ dữ liệu được đổ ra và lưu trữ trong tập tin avocado.csv\n",
    "với 18249 record. Với các cột:\n",
    "1. Date - ngày ghi nhận\n",
    "2. AveragePrice – giá trung bình của một quả bơ\n",
    "3. Type - conventional / organic – loại: thông thường/ hữu cơ\n",
    "4. Region – vùng được bán\n",
    "5. Total Volume – tổng số bơ đã bán\n",
    "6. 4046 – tổng số bơ có mã PLU 4046 đã bán\n",
    "7. 4225 - tổng số bơ có mã PLU 4225 đã bán\n",
    "8. 4770 - tổng số bơ có mã PLU 4770 đã bán\n",
    "9. Total Bags – tổng số túi đã bán\n",
    "10. Small/Large/XLarge Bags – tổng số túi đã bán theo size\n",
    "11. Có hai loại bơ trong tập dữ liệu và một số vùng khác nhau. Điều\n",
    "này cho phép chúng ta thực hiện tất cả các loại phân tích cho\n",
    "các vùng khác nhau, hoặc phân tích toàn bộ nước Mỹ theo một\n",
    "trong hai loại bơ."
   ]
  },
  {
   "cell_type": "markdown",
   "id": "a14e433a",
   "metadata": {},
   "source": [
    "# Bước 3: Data preparation/ Prepare"
   ]
  },
  {
   "cell_type": "code",
   "execution_count": 1,
   "id": "c3553c5a",
   "metadata": {},
   "outputs": [],
   "source": [
    "#import các thư viện cần thiết\n",
    "import numpy as np\n",
    "import pandas as pd\n",
    "import matplotlib.pyplot as plt\n",
    "import seaborn as sns\n",
    "from sklearn.pipeline import Pipeline\n",
    "from sklearn.preprocessing import StandardScaler\n",
    "from sklearn.model_selection import train_test_split, cross_val_score\n",
    "import pandas_profiling as pp\n",
    "from sklearn.preprocessing import LabelEncoder\n",
    "import statsmodels.api as sm \n",
    "from statsmodels.formula.api import ols \n",
    "import warnings\n",
    "warnings.filterwarnings(\"ignore\")"
   ]
  },
  {
   "cell_type": "code",
   "execution_count": 2,
   "id": "03180af9",
   "metadata": {},
   "outputs": [],
   "source": [
    "df = pd.read_csv('avocado.csv', index_col=0)"
   ]
  },
  {
   "cell_type": "code",
   "execution_count": 3,
   "id": "adc368da",
   "metadata": {},
   "outputs": [
    {
     "data": {
      "text/html": [
       "<div>\n",
       "<style scoped>\n",
       "    .dataframe tbody tr th:only-of-type {\n",
       "        vertical-align: middle;\n",
       "    }\n",
       "\n",
       "    .dataframe tbody tr th {\n",
       "        vertical-align: top;\n",
       "    }\n",
       "\n",
       "    .dataframe thead th {\n",
       "        text-align: right;\n",
       "    }\n",
       "</style>\n",
       "<table border=\"1\" class=\"dataframe\">\n",
       "  <thead>\n",
       "    <tr style=\"text-align: right;\">\n",
       "      <th></th>\n",
       "      <th>Date</th>\n",
       "      <th>AveragePrice</th>\n",
       "      <th>Total Volume</th>\n",
       "      <th>4046</th>\n",
       "      <th>4225</th>\n",
       "      <th>4770</th>\n",
       "      <th>Total Bags</th>\n",
       "      <th>Small Bags</th>\n",
       "      <th>Large Bags</th>\n",
       "      <th>XLarge Bags</th>\n",
       "      <th>type</th>\n",
       "      <th>year</th>\n",
       "      <th>region</th>\n",
       "    </tr>\n",
       "  </thead>\n",
       "  <tbody>\n",
       "    <tr>\n",
       "      <th>0</th>\n",
       "      <td>2015-12-27</td>\n",
       "      <td>1.33</td>\n",
       "      <td>64236.62</td>\n",
       "      <td>1036.74</td>\n",
       "      <td>54454.85</td>\n",
       "      <td>48.16</td>\n",
       "      <td>8696.87</td>\n",
       "      <td>8603.62</td>\n",
       "      <td>93.25</td>\n",
       "      <td>0.0</td>\n",
       "      <td>conventional</td>\n",
       "      <td>2015</td>\n",
       "      <td>Albany</td>\n",
       "    </tr>\n",
       "    <tr>\n",
       "      <th>1</th>\n",
       "      <td>2015-12-20</td>\n",
       "      <td>1.35</td>\n",
       "      <td>54876.98</td>\n",
       "      <td>674.28</td>\n",
       "      <td>44638.81</td>\n",
       "      <td>58.33</td>\n",
       "      <td>9505.56</td>\n",
       "      <td>9408.07</td>\n",
       "      <td>97.49</td>\n",
       "      <td>0.0</td>\n",
       "      <td>conventional</td>\n",
       "      <td>2015</td>\n",
       "      <td>Albany</td>\n",
       "    </tr>\n",
       "    <tr>\n",
       "      <th>2</th>\n",
       "      <td>2015-12-13</td>\n",
       "      <td>0.93</td>\n",
       "      <td>118220.22</td>\n",
       "      <td>794.70</td>\n",
       "      <td>109149.67</td>\n",
       "      <td>130.50</td>\n",
       "      <td>8145.35</td>\n",
       "      <td>8042.21</td>\n",
       "      <td>103.14</td>\n",
       "      <td>0.0</td>\n",
       "      <td>conventional</td>\n",
       "      <td>2015</td>\n",
       "      <td>Albany</td>\n",
       "    </tr>\n",
       "    <tr>\n",
       "      <th>3</th>\n",
       "      <td>2015-12-06</td>\n",
       "      <td>1.08</td>\n",
       "      <td>78992.15</td>\n",
       "      <td>1132.00</td>\n",
       "      <td>71976.41</td>\n",
       "      <td>72.58</td>\n",
       "      <td>5811.16</td>\n",
       "      <td>5677.40</td>\n",
       "      <td>133.76</td>\n",
       "      <td>0.0</td>\n",
       "      <td>conventional</td>\n",
       "      <td>2015</td>\n",
       "      <td>Albany</td>\n",
       "    </tr>\n",
       "    <tr>\n",
       "      <th>4</th>\n",
       "      <td>2015-11-29</td>\n",
       "      <td>1.28</td>\n",
       "      <td>51039.60</td>\n",
       "      <td>941.48</td>\n",
       "      <td>43838.39</td>\n",
       "      <td>75.78</td>\n",
       "      <td>6183.95</td>\n",
       "      <td>5986.26</td>\n",
       "      <td>197.69</td>\n",
       "      <td>0.0</td>\n",
       "      <td>conventional</td>\n",
       "      <td>2015</td>\n",
       "      <td>Albany</td>\n",
       "    </tr>\n",
       "  </tbody>\n",
       "</table>\n",
       "</div>"
      ],
      "text/plain": [
       "         Date  AveragePrice  Total Volume     4046       4225    4770  \\\n",
       "0  2015-12-27          1.33      64236.62  1036.74   54454.85   48.16   \n",
       "1  2015-12-20          1.35      54876.98   674.28   44638.81   58.33   \n",
       "2  2015-12-13          0.93     118220.22   794.70  109149.67  130.50   \n",
       "3  2015-12-06          1.08      78992.15  1132.00   71976.41   72.58   \n",
       "4  2015-11-29          1.28      51039.60   941.48   43838.39   75.78   \n",
       "\n",
       "   Total Bags  Small Bags  Large Bags  XLarge Bags          type  year  region  \n",
       "0     8696.87     8603.62       93.25          0.0  conventional  2015  Albany  \n",
       "1     9505.56     9408.07       97.49          0.0  conventional  2015  Albany  \n",
       "2     8145.35     8042.21      103.14          0.0  conventional  2015  Albany  \n",
       "3     5811.16     5677.40      133.76          0.0  conventional  2015  Albany  \n",
       "4     6183.95     5986.26      197.69          0.0  conventional  2015  Albany  "
      ]
     },
     "execution_count": 3,
     "metadata": {},
     "output_type": "execute_result"
    }
   ],
   "source": [
    "df.head()"
   ]
  },
  {
   "cell_type": "code",
   "execution_count": 4,
   "id": "cfa083a3",
   "metadata": {},
   "outputs": [
    {
     "data": {
      "text/html": [
       "<div>\n",
       "<style scoped>\n",
       "    .dataframe tbody tr th:only-of-type {\n",
       "        vertical-align: middle;\n",
       "    }\n",
       "\n",
       "    .dataframe tbody tr th {\n",
       "        vertical-align: top;\n",
       "    }\n",
       "\n",
       "    .dataframe thead th {\n",
       "        text-align: right;\n",
       "    }\n",
       "</style>\n",
       "<table border=\"1\" class=\"dataframe\">\n",
       "  <thead>\n",
       "    <tr style=\"text-align: right;\">\n",
       "      <th></th>\n",
       "      <th>Date</th>\n",
       "      <th>AveragePrice</th>\n",
       "      <th>Total Volume</th>\n",
       "      <th>4046</th>\n",
       "      <th>4225</th>\n",
       "      <th>4770</th>\n",
       "      <th>Total Bags</th>\n",
       "      <th>Small Bags</th>\n",
       "      <th>Large Bags</th>\n",
       "      <th>XLarge Bags</th>\n",
       "      <th>type</th>\n",
       "      <th>year</th>\n",
       "      <th>region</th>\n",
       "    </tr>\n",
       "  </thead>\n",
       "  <tbody>\n",
       "    <tr>\n",
       "      <th>47</th>\n",
       "      <td>2017-02-05</td>\n",
       "      <td>0.87</td>\n",
       "      <td>1254201.12</td>\n",
       "      <td>689710.71</td>\n",
       "      <td>281503.40</td>\n",
       "      <td>629.67</td>\n",
       "      <td>282357.34</td>\n",
       "      <td>102844.25</td>\n",
       "      <td>178368.65</td>\n",
       "      <td>1144.44</td>\n",
       "      <td>conventional</td>\n",
       "      <td>2017</td>\n",
       "      <td>MiamiFtLauderdale</td>\n",
       "    </tr>\n",
       "    <tr>\n",
       "      <th>49</th>\n",
       "      <td>2016-01-17</td>\n",
       "      <td>0.79</td>\n",
       "      <td>1164936.06</td>\n",
       "      <td>600983.92</td>\n",
       "      <td>369825.14</td>\n",
       "      <td>79252.03</td>\n",
       "      <td>114874.97</td>\n",
       "      <td>99602.79</td>\n",
       "      <td>15226.79</td>\n",
       "      <td>45.39</td>\n",
       "      <td>conventional</td>\n",
       "      <td>2016</td>\n",
       "      <td>DallasFtWorth</td>\n",
       "    </tr>\n",
       "    <tr>\n",
       "      <th>36</th>\n",
       "      <td>2016-04-17</td>\n",
       "      <td>1.15</td>\n",
       "      <td>118580.72</td>\n",
       "      <td>29955.06</td>\n",
       "      <td>15129.88</td>\n",
       "      <td>17.07</td>\n",
       "      <td>73478.71</td>\n",
       "      <td>56962.55</td>\n",
       "      <td>16516.16</td>\n",
       "      <td>0.00</td>\n",
       "      <td>organic</td>\n",
       "      <td>2016</td>\n",
       "      <td>SouthCentral</td>\n",
       "    </tr>\n",
       "    <tr>\n",
       "      <th>44</th>\n",
       "      <td>2016-02-21</td>\n",
       "      <td>0.94</td>\n",
       "      <td>32804733.22</td>\n",
       "      <td>10015825.13</td>\n",
       "      <td>12003751.56</td>\n",
       "      <td>1375260.47</td>\n",
       "      <td>9409896.06</td>\n",
       "      <td>7213492.61</td>\n",
       "      <td>2150749.43</td>\n",
       "      <td>45654.02</td>\n",
       "      <td>conventional</td>\n",
       "      <td>2016</td>\n",
       "      <td>TotalUS</td>\n",
       "    </tr>\n",
       "    <tr>\n",
       "      <th>24</th>\n",
       "      <td>2015-07-12</td>\n",
       "      <td>2.19</td>\n",
       "      <td>2763.50</td>\n",
       "      <td>19.61</td>\n",
       "      <td>1646.24</td>\n",
       "      <td>0.00</td>\n",
       "      <td>1097.65</td>\n",
       "      <td>1097.65</td>\n",
       "      <td>0.00</td>\n",
       "      <td>0.00</td>\n",
       "      <td>organic</td>\n",
       "      <td>2015</td>\n",
       "      <td>Boston</td>\n",
       "    </tr>\n",
       "  </tbody>\n",
       "</table>\n",
       "</div>"
      ],
      "text/plain": [
       "          Date  AveragePrice  Total Volume         4046         4225  \\\n",
       "47  2017-02-05          0.87    1254201.12    689710.71    281503.40   \n",
       "49  2016-01-17          0.79    1164936.06    600983.92    369825.14   \n",
       "36  2016-04-17          1.15     118580.72     29955.06     15129.88   \n",
       "44  2016-02-21          0.94   32804733.22  10015825.13  12003751.56   \n",
       "24  2015-07-12          2.19       2763.50        19.61      1646.24   \n",
       "\n",
       "          4770  Total Bags  Small Bags  Large Bags  XLarge Bags          type  \\\n",
       "47      629.67   282357.34   102844.25   178368.65      1144.44  conventional   \n",
       "49    79252.03   114874.97    99602.79    15226.79        45.39  conventional   \n",
       "36       17.07    73478.71    56962.55    16516.16         0.00       organic   \n",
       "44  1375260.47  9409896.06  7213492.61  2150749.43     45654.02  conventional   \n",
       "24        0.00     1097.65     1097.65        0.00         0.00       organic   \n",
       "\n",
       "    year             region  \n",
       "47  2017  MiamiFtLauderdale  \n",
       "49  2016      DallasFtWorth  \n",
       "36  2016       SouthCentral  \n",
       "44  2016            TotalUS  \n",
       "24  2015             Boston  "
      ]
     },
     "execution_count": 4,
     "metadata": {},
     "output_type": "execute_result"
    }
   ],
   "source": [
    "df.sample(5)"
   ]
  },
  {
   "cell_type": "code",
   "execution_count": 5,
   "id": "526c9e5b",
   "metadata": {},
   "outputs": [
    {
     "name": "stdout",
     "output_type": "stream",
     "text": [
      "<class 'pandas.core.frame.DataFrame'>\n",
      "Int64Index: 18249 entries, 0 to 11\n",
      "Data columns (total 13 columns):\n",
      " #   Column        Non-Null Count  Dtype  \n",
      "---  ------        --------------  -----  \n",
      " 0   Date          18249 non-null  object \n",
      " 1   AveragePrice  18249 non-null  float64\n",
      " 2   Total Volume  18249 non-null  float64\n",
      " 3   4046          18249 non-null  float64\n",
      " 4   4225          18249 non-null  float64\n",
      " 5   4770          18249 non-null  float64\n",
      " 6   Total Bags    18249 non-null  float64\n",
      " 7   Small Bags    18249 non-null  float64\n",
      " 8   Large Bags    18249 non-null  float64\n",
      " 9   XLarge Bags   18249 non-null  float64\n",
      " 10  type          18249 non-null  object \n",
      " 11  year          18249 non-null  int64  \n",
      " 12  region        18249 non-null  object \n",
      "dtypes: float64(9), int64(1), object(3)\n",
      "memory usage: 1.9+ MB\n"
     ]
    }
   ],
   "source": [
    "df.info()"
   ]
  },
  {
   "cell_type": "markdown",
   "id": "02f052f5",
   "metadata": {},
   "source": [
    "## Explore - data preprocessing"
   ]
  },
  {
   "cell_type": "code",
   "execution_count": 6,
   "id": "a4d3b2cc",
   "metadata": {},
   "outputs": [
    {
     "data": {
      "text/plain": [
       "Date            0\n",
       "AveragePrice    0\n",
       "Total Volume    0\n",
       "4046            0\n",
       "4225            0\n",
       "4770            0\n",
       "Total Bags      0\n",
       "Small Bags      0\n",
       "Large Bags      0\n",
       "XLarge Bags     0\n",
       "type            0\n",
       "year            0\n",
       "region          0\n",
       "dtype: int64"
      ]
     },
     "execution_count": 6,
     "metadata": {},
     "output_type": "execute_result"
    }
   ],
   "source": [
    "df.isna().sum()"
   ]
  },
  {
   "cell_type": "code",
   "execution_count": 7,
   "id": "2ca725ff",
   "metadata": {},
   "outputs": [
    {
     "data": {
      "text/plain": [
       "Date            0\n",
       "AveragePrice    0\n",
       "Total Volume    0\n",
       "4046            0\n",
       "4225            0\n",
       "4770            0\n",
       "Total Bags      0\n",
       "Small Bags      0\n",
       "Large Bags      0\n",
       "XLarge Bags     0\n",
       "type            0\n",
       "year            0\n",
       "region          0\n",
       "dtype: int64"
      ]
     },
     "execution_count": 7,
     "metadata": {},
     "output_type": "execute_result"
    }
   ],
   "source": [
    "df.isnull().sum()"
   ]
  },
  {
   "cell_type": "code",
   "execution_count": 8,
   "id": "ed636b57",
   "metadata": {},
   "outputs": [
    {
     "data": {
      "text/plain": [
       "Index(['Date', 'type', 'region'], dtype='object')"
      ]
     },
     "execution_count": 8,
     "metadata": {},
     "output_type": "execute_result"
    }
   ],
   "source": [
    "df.select_dtypes('O').columns"
   ]
  },
  {
   "cell_type": "code",
   "execution_count": 9,
   "id": "8b467e6f",
   "metadata": {},
   "outputs": [
    {
     "data": {
      "text/plain": [
       "AveragePrice    0\n",
       "Total Volume    0\n",
       "4046            0\n",
       "4225            0\n",
       "4770            0\n",
       "Total Bags      0\n",
       "Small Bags      0\n",
       "Large Bags      0\n",
       "XLarge Bags     0\n",
       "year            0\n",
       "dtype: int64"
      ]
     },
     "execution_count": 9,
     "metadata": {},
     "output_type": "execute_result"
    }
   ],
   "source": [
    "# Kiểm tra các giá trị < 0\n",
    "(df.select_dtypes(exclude='O') < 0).sum()"
   ]
  },
  {
   "cell_type": "code",
   "execution_count": 10,
   "id": "df9d386f",
   "metadata": {},
   "outputs": [],
   "source": [
    "def univariate_analysis(df, col):\n",
    "    print(df[col].describe())\n",
    "    print(\"median:\",df[col].median())\n",
    "    print(\"mode:\",df[col].mode())\n",
    "    Q1 = np.quantile(df[col].dropna(),0.25)\n",
    "    Q3 = np.quantile(df[col].dropna(),0.75)\n",
    "    iqr = Q3 - Q1\n",
    "    print(\"Q1:\",Q1)\n",
    "    print(\"Q3:\",Q3)\n",
    "    print(\"IQR:\",iqr)\n",
    "    print(\"variance:\",df[col].var())\n",
    "    \n",
    "    if df[col].skew() > 0:\n",
    "        print(\"skew:\",df[col].skew(),'=> Phân phối lệch phải')\n",
    "    else:\n",
    "        print(\"skew:\",df[col].skew(),'=> Phân phối lệch trái')\n",
    "    \n",
    "    if df[col].kurtosis() > 0:\n",
    "        print(\"kurtosis:\",df[col].kurtosis(),'=> Phân phối nhọn hơn phân phối chuẩn')\n",
    "    else:\n",
    "        print(\"kurtosis:\",df[col].kurtosis(),'=> Phân phối thấp hơn phân phối chuẩn')\n",
    "\n",
    "def his_explor(df, col):\n",
    "    # Histogram\n",
    "    plt.figure(figsize=(10,5))\n",
    "    plt.subplot(1,2,1)\n",
    "    sns.distplot(df[col])\n",
    "    plt.subplot(1,2,2)\n",
    "    plt.hist(df[col])\n",
    "    plt.show()\n",
    "\n",
    "def boxplot_explor(df, col):\n",
    "    # boxplot\n",
    "    plt.figure(figsize=(4,8))\n",
    "    plt.boxplot(df[col].dropna())\n",
    "    plt.show()\n",
    "    \n",
    "def check_outlier(df, col):\n",
    "    Q1 = np.quantile(df[col].dropna(),0.25)\n",
    "    Q3 = np.quantile(df[col].dropna(),0.75)\n",
    "    iqr = Q3 - Q1\n",
    "    n_o_outliers = 0\n",
    "    l_o_outliers = 0\n",
    "    if df[df[col] > (Q3 + 1.5*iqr)].shape[0]:\n",
    "        n_o_outliers = df[df[col] > (Q3 + 1.5*iqr)].shape[0]\n",
    "    if df[df[col] < (Q1 - 1.5*iqr)].shape[0] > 0:\n",
    "        l_o_outliers = df[df[col] < (Q1 - 1.5*iqr)].shape[0]\n",
    "    per = (n_o_outliers + l_o_outliers)/df.shape[0]\n",
    "    return n_o_outliers, l_o_outliers, per"
   ]
  },
  {
   "cell_type": "code",
   "execution_count": 11,
   "id": "7f76da5a",
   "metadata": {},
   "outputs": [],
   "source": [
    "def convert_month(month):\n",
    "    if month == 3 or month == 4 or month == 5:\n",
    "        return 0\n",
    "    elif month == 6 or month == 7 or month == 8:\n",
    "        return 1\n",
    "    elif month == 9 or month == 10 or month == 11:\n",
    "        return 2\n",
    "    else:\n",
    "        return 3"
   ]
  },
  {
   "cell_type": "code",
   "execution_count": 12,
   "id": "832fe82d",
   "metadata": {},
   "outputs": [
    {
     "data": {
      "text/html": [
       "<div>\n",
       "<style scoped>\n",
       "    .dataframe tbody tr th:only-of-type {\n",
       "        vertical-align: middle;\n",
       "    }\n",
       "\n",
       "    .dataframe tbody tr th {\n",
       "        vertical-align: top;\n",
       "    }\n",
       "\n",
       "    .dataframe thead th {\n",
       "        text-align: right;\n",
       "    }\n",
       "</style>\n",
       "<table border=\"1\" class=\"dataframe\">\n",
       "  <thead>\n",
       "    <tr style=\"text-align: right;\">\n",
       "      <th></th>\n",
       "      <th>Date</th>\n",
       "      <th>AveragePrice</th>\n",
       "      <th>Total Volume</th>\n",
       "      <th>4046</th>\n",
       "      <th>4225</th>\n",
       "      <th>4770</th>\n",
       "      <th>Total Bags</th>\n",
       "      <th>Small Bags</th>\n",
       "      <th>Large Bags</th>\n",
       "      <th>XLarge Bags</th>\n",
       "      <th>type</th>\n",
       "      <th>year</th>\n",
       "      <th>region</th>\n",
       "      <th>day</th>\n",
       "      <th>month</th>\n",
       "      <th>Season</th>\n",
       "    </tr>\n",
       "  </thead>\n",
       "  <tbody>\n",
       "    <tr>\n",
       "      <th>0</th>\n",
       "      <td>2015-12-27</td>\n",
       "      <td>1.33</td>\n",
       "      <td>64236.62</td>\n",
       "      <td>1036.74</td>\n",
       "      <td>54454.85</td>\n",
       "      <td>48.16</td>\n",
       "      <td>8696.87</td>\n",
       "      <td>8603.62</td>\n",
       "      <td>93.25</td>\n",
       "      <td>0.0</td>\n",
       "      <td>conventional</td>\n",
       "      <td>2015</td>\n",
       "      <td>Albany</td>\n",
       "      <td>27</td>\n",
       "      <td>12</td>\n",
       "      <td>3</td>\n",
       "    </tr>\n",
       "    <tr>\n",
       "      <th>1</th>\n",
       "      <td>2015-12-20</td>\n",
       "      <td>1.35</td>\n",
       "      <td>54876.98</td>\n",
       "      <td>674.28</td>\n",
       "      <td>44638.81</td>\n",
       "      <td>58.33</td>\n",
       "      <td>9505.56</td>\n",
       "      <td>9408.07</td>\n",
       "      <td>97.49</td>\n",
       "      <td>0.0</td>\n",
       "      <td>conventional</td>\n",
       "      <td>2015</td>\n",
       "      <td>Albany</td>\n",
       "      <td>20</td>\n",
       "      <td>12</td>\n",
       "      <td>3</td>\n",
       "    </tr>\n",
       "    <tr>\n",
       "      <th>2</th>\n",
       "      <td>2015-12-13</td>\n",
       "      <td>0.93</td>\n",
       "      <td>118220.22</td>\n",
       "      <td>794.70</td>\n",
       "      <td>109149.67</td>\n",
       "      <td>130.50</td>\n",
       "      <td>8145.35</td>\n",
       "      <td>8042.21</td>\n",
       "      <td>103.14</td>\n",
       "      <td>0.0</td>\n",
       "      <td>conventional</td>\n",
       "      <td>2015</td>\n",
       "      <td>Albany</td>\n",
       "      <td>13</td>\n",
       "      <td>12</td>\n",
       "      <td>3</td>\n",
       "    </tr>\n",
       "    <tr>\n",
       "      <th>3</th>\n",
       "      <td>2015-12-06</td>\n",
       "      <td>1.08</td>\n",
       "      <td>78992.15</td>\n",
       "      <td>1132.00</td>\n",
       "      <td>71976.41</td>\n",
       "      <td>72.58</td>\n",
       "      <td>5811.16</td>\n",
       "      <td>5677.40</td>\n",
       "      <td>133.76</td>\n",
       "      <td>0.0</td>\n",
       "      <td>conventional</td>\n",
       "      <td>2015</td>\n",
       "      <td>Albany</td>\n",
       "      <td>6</td>\n",
       "      <td>12</td>\n",
       "      <td>3</td>\n",
       "    </tr>\n",
       "    <tr>\n",
       "      <th>4</th>\n",
       "      <td>2015-11-29</td>\n",
       "      <td>1.28</td>\n",
       "      <td>51039.60</td>\n",
       "      <td>941.48</td>\n",
       "      <td>43838.39</td>\n",
       "      <td>75.78</td>\n",
       "      <td>6183.95</td>\n",
       "      <td>5986.26</td>\n",
       "      <td>197.69</td>\n",
       "      <td>0.0</td>\n",
       "      <td>conventional</td>\n",
       "      <td>2015</td>\n",
       "      <td>Albany</td>\n",
       "      <td>29</td>\n",
       "      <td>11</td>\n",
       "      <td>2</td>\n",
       "    </tr>\n",
       "  </tbody>\n",
       "</table>\n",
       "</div>"
      ],
      "text/plain": [
       "        Date  AveragePrice  Total Volume     4046       4225    4770  \\\n",
       "0 2015-12-27          1.33      64236.62  1036.74   54454.85   48.16   \n",
       "1 2015-12-20          1.35      54876.98   674.28   44638.81   58.33   \n",
       "2 2015-12-13          0.93     118220.22   794.70  109149.67  130.50   \n",
       "3 2015-12-06          1.08      78992.15  1132.00   71976.41   72.58   \n",
       "4 2015-11-29          1.28      51039.60   941.48   43838.39   75.78   \n",
       "\n",
       "   Total Bags  Small Bags  Large Bags  XLarge Bags          type  year  \\\n",
       "0     8696.87     8603.62       93.25          0.0  conventional  2015   \n",
       "1     9505.56     9408.07       97.49          0.0  conventional  2015   \n",
       "2     8145.35     8042.21      103.14          0.0  conventional  2015   \n",
       "3     5811.16     5677.40      133.76          0.0  conventional  2015   \n",
       "4     6183.95     5986.26      197.69          0.0  conventional  2015   \n",
       "\n",
       "   region  day  month  Season  \n",
       "0  Albany   27     12       3  \n",
       "1  Albany   20     12       3  \n",
       "2  Albany   13     12       3  \n",
       "3  Albany    6     12       3  \n",
       "4  Albany   29     11       2  "
      ]
     },
     "execution_count": 12,
     "metadata": {},
     "output_type": "execute_result"
    }
   ],
   "source": [
    "# Create more date, month columns for analysis\n",
    "import datetime\n",
    "df['Date'] = pd.to_datetime(df['Date'])\n",
    "df['day']=df['Date'].dt.day\n",
    "df['month']=df['Date'].dt.month\n",
    "df['Season'] = df['month'].apply(lambda x: convert_month(x))\n",
    "df.head()"
   ]
  },
  {
   "cell_type": "markdown",
   "id": "fe5d4169",
   "metadata": {},
   "source": [
    "### Define attributes"
   ]
  },
  {
   "cell_type": "code",
   "execution_count": 13,
   "id": "15b95672",
   "metadata": {},
   "outputs": [
    {
     "data": {
      "text/plain": [
       "['Date',\n",
       " 'AveragePrice',\n",
       " 'Total Volume',\n",
       " '4046',\n",
       " '4225',\n",
       " '4770',\n",
       " 'Total Bags',\n",
       " 'Small Bags',\n",
       " 'Large Bags',\n",
       " 'XLarge Bags',\n",
       " 'year',\n",
       " 'day',\n",
       " 'month',\n",
       " 'Season']"
      ]
     },
     "execution_count": 13,
     "metadata": {},
     "output_type": "execute_result"
    }
   ],
   "source": [
    "# Data types\n",
    "# numeric\n",
    "numbers_vaiables = [i for i in df.columns if df.dtypes[i] != 'O']\n",
    "numbers_vaiables"
   ]
  },
  {
   "cell_type": "code",
   "execution_count": 14,
   "id": "c2458061",
   "metadata": {},
   "outputs": [
    {
     "data": {
      "text/plain": [
       "['type', 'region']"
      ]
     },
     "execution_count": 14,
     "metadata": {},
     "output_type": "execute_result"
    }
   ],
   "source": [
    "# string type\n",
    "objects_vaiables = [i for i in df.columns if df.dtypes[i] == 'O']\n",
    "objects_vaiables"
   ]
  },
  {
   "cell_type": "code",
   "execution_count": 15,
   "id": "fc3632e8",
   "metadata": {},
   "outputs": [
    {
     "name": "stdout",
     "output_type": "stream",
     "text": [
      "1-/ Date (169):    ['2015-12-27T00:00:00.000000000' '2015-12-20T00:00:00.000000000'\n",
      " '2015-12-13T00:00:00.000000000' '2015-12-06T00:00:00.000000000'\n",
      " '2015-11-29T00:00:00.000000000' '2015-11-22T00:00:00.000000000'\n",
      " '2015-11-15T00:00:00.000000000' '2015-11-08T00:00:00.000000000'\n",
      " '2015-11-01T00:00:00.000000000' '2015-10-25T00:00:00.000000000'\n",
      " '2015-10-18T00:00:00.000000000' '2015-10-11T00:00:00.000000000'\n",
      " '2015-10-04T00:00:00.000000000' '2015-09-27T00:00:00.000000000'\n",
      " '2015-09-20T00:00:00.000000000' '2015-09-13T00:00:00.000000000'\n",
      " '2015-09-06T00:00:00.000000000' '2015-08-30T00:00:00.000000000'\n",
      " '2015-08-23T00:00:00.000000000' '2015-08-16T00:00:00.000000000'\n",
      " '2015-08-09T00:00:00.000000000' '2015-08-02T00:00:00.000000000'\n",
      " '2015-07-26T00:00:00.000000000' '2015-07-19T00:00:00.000000000'\n",
      " '2015-07-12T00:00:00.000000000' '2015-07-05T00:00:00.000000000'\n",
      " '2015-06-28T00:00:00.000000000' '2015-06-21T00:00:00.000000000'\n",
      " '2015-06-14T00:00:00.000000000' '2015-06-07T00:00:00.000000000'\n",
      " '2015-05-31T00:00:00.000000000' '2015-05-24T00:00:00.000000000'\n",
      " '2015-05-17T00:00:00.000000000' '2015-05-10T00:00:00.000000000'\n",
      " '2015-05-03T00:00:00.000000000' '2015-04-26T00:00:00.000000000'\n",
      " '2015-04-19T00:00:00.000000000' '2015-04-12T00:00:00.000000000'\n",
      " '2015-04-05T00:00:00.000000000' '2015-03-29T00:00:00.000000000'\n",
      " '2015-03-22T00:00:00.000000000' '2015-03-15T00:00:00.000000000'\n",
      " '2015-03-08T00:00:00.000000000' '2015-03-01T00:00:00.000000000'\n",
      " '2015-02-22T00:00:00.000000000' '2015-02-15T00:00:00.000000000'\n",
      " '2015-02-08T00:00:00.000000000' '2015-02-01T00:00:00.000000000'\n",
      " '2015-01-25T00:00:00.000000000' '2015-01-18T00:00:00.000000000'\n",
      " '2015-01-11T00:00:00.000000000' '2015-01-04T00:00:00.000000000'\n",
      " '2016-12-25T00:00:00.000000000' '2016-12-18T00:00:00.000000000'\n",
      " '2016-12-11T00:00:00.000000000' '2016-12-04T00:00:00.000000000'\n",
      " '2016-11-27T00:00:00.000000000' '2016-11-20T00:00:00.000000000'\n",
      " '2016-11-13T00:00:00.000000000' '2016-11-06T00:00:00.000000000'\n",
      " '2016-10-30T00:00:00.000000000' '2016-10-23T00:00:00.000000000'\n",
      " '2016-10-16T00:00:00.000000000' '2016-10-09T00:00:00.000000000'\n",
      " '2016-10-02T00:00:00.000000000' '2016-09-25T00:00:00.000000000'\n",
      " '2016-09-18T00:00:00.000000000' '2016-09-11T00:00:00.000000000'\n",
      " '2016-09-04T00:00:00.000000000' '2016-08-28T00:00:00.000000000'\n",
      " '2016-08-21T00:00:00.000000000' '2016-08-14T00:00:00.000000000'\n",
      " '2016-08-07T00:00:00.000000000' '2016-07-31T00:00:00.000000000'\n",
      " '2016-07-24T00:00:00.000000000' '2016-07-17T00:00:00.000000000'\n",
      " '2016-07-10T00:00:00.000000000' '2016-07-03T00:00:00.000000000'\n",
      " '2016-06-26T00:00:00.000000000' '2016-06-19T00:00:00.000000000'\n",
      " '2016-06-12T00:00:00.000000000' '2016-06-05T00:00:00.000000000'\n",
      " '2016-05-29T00:00:00.000000000' '2016-05-22T00:00:00.000000000'\n",
      " '2016-05-15T00:00:00.000000000' '2016-05-08T00:00:00.000000000'\n",
      " '2016-05-01T00:00:00.000000000' '2016-04-24T00:00:00.000000000'\n",
      " '2016-04-17T00:00:00.000000000' '2016-04-10T00:00:00.000000000'\n",
      " '2016-04-03T00:00:00.000000000' '2016-03-27T00:00:00.000000000'\n",
      " '2016-03-20T00:00:00.000000000' '2016-03-13T00:00:00.000000000'\n",
      " '2016-03-06T00:00:00.000000000' '2016-02-28T00:00:00.000000000'\n",
      " '2016-02-21T00:00:00.000000000' '2016-02-14T00:00:00.000000000'\n",
      " '2016-02-07T00:00:00.000000000' '2016-01-31T00:00:00.000000000'\n",
      " '2016-01-24T00:00:00.000000000' '2016-01-17T00:00:00.000000000'\n",
      " '2016-01-10T00:00:00.000000000' '2016-01-03T00:00:00.000000000'\n",
      " '2017-12-31T00:00:00.000000000' '2017-12-24T00:00:00.000000000'\n",
      " '2017-12-17T00:00:00.000000000' '2017-12-10T00:00:00.000000000'\n",
      " '2017-12-03T00:00:00.000000000' '2017-11-26T00:00:00.000000000'\n",
      " '2017-11-19T00:00:00.000000000' '2017-11-12T00:00:00.000000000'\n",
      " '2017-11-05T00:00:00.000000000' '2017-10-29T00:00:00.000000000'\n",
      " '2017-10-22T00:00:00.000000000' '2017-10-15T00:00:00.000000000'\n",
      " '2017-10-08T00:00:00.000000000' '2017-10-01T00:00:00.000000000'\n",
      " '2017-09-24T00:00:00.000000000' '2017-09-17T00:00:00.000000000'\n",
      " '2017-09-10T00:00:00.000000000' '2017-09-03T00:00:00.000000000'\n",
      " '2017-08-27T00:00:00.000000000' '2017-08-20T00:00:00.000000000'\n",
      " '2017-08-13T00:00:00.000000000' '2017-08-06T00:00:00.000000000'\n",
      " '2017-07-30T00:00:00.000000000' '2017-07-23T00:00:00.000000000'\n",
      " '2017-07-16T00:00:00.000000000' '2017-07-09T00:00:00.000000000'\n",
      " '2017-07-02T00:00:00.000000000' '2017-06-25T00:00:00.000000000'\n",
      " '2017-06-18T00:00:00.000000000' '2017-06-11T00:00:00.000000000'\n",
      " '2017-06-04T00:00:00.000000000' '2017-05-28T00:00:00.000000000'\n",
      " '2017-05-21T00:00:00.000000000' '2017-05-14T00:00:00.000000000'\n",
      " '2017-05-07T00:00:00.000000000' '2017-04-30T00:00:00.000000000'\n",
      " '2017-04-23T00:00:00.000000000' '2017-04-16T00:00:00.000000000'\n",
      " '2017-04-09T00:00:00.000000000' '2017-04-02T00:00:00.000000000'\n",
      " '2017-03-26T00:00:00.000000000' '2017-03-19T00:00:00.000000000'\n",
      " '2017-03-12T00:00:00.000000000' '2017-03-05T00:00:00.000000000'\n",
      " '2017-02-26T00:00:00.000000000' '2017-02-19T00:00:00.000000000'\n",
      " '2017-02-12T00:00:00.000000000' '2017-02-05T00:00:00.000000000'\n",
      " '2017-01-29T00:00:00.000000000' '2017-01-22T00:00:00.000000000'\n",
      " '2017-01-15T00:00:00.000000000' '2017-01-08T00:00:00.000000000'\n",
      " '2017-01-01T00:00:00.000000000' '2018-03-25T00:00:00.000000000'\n",
      " '2018-03-18T00:00:00.000000000' '2018-03-11T00:00:00.000000000'\n",
      " '2018-03-04T00:00:00.000000000' '2018-02-25T00:00:00.000000000'\n",
      " '2018-02-18T00:00:00.000000000' '2018-02-11T00:00:00.000000000'\n",
      " '2018-02-04T00:00:00.000000000' '2018-01-28T00:00:00.000000000'\n",
      " '2018-01-21T00:00:00.000000000' '2018-01-14T00:00:00.000000000'\n",
      " '2018-01-07T00:00:00.000000000']\n",
      "2-/ AveragePrice (259):    [1.33 1.35 0.93 1.08 1.28 1.26 0.99 0.98 1.02 1.07 1.12 1.31 1.11 1.34\n",
      " 1.45 1.05 1.37 1.27 1.32 1.23 1.19 1.43 1.2  1.22 1.13 1.16 1.06 1.17\n",
      " 1.24 0.96 1.   1.09 0.95 0.97 1.15 1.01 1.14 1.1  1.04 1.03 1.18 1.29\n",
      " 1.25 0.71 0.94 0.91 1.39 1.4  1.36 1.3  1.54 1.59 1.56 1.38 1.49 1.5\n",
      " 1.47 1.42 1.41 1.44 1.52 0.9  0.87 0.78 0.92 0.83 0.88 0.84 0.85 1.21\n",
      " 0.79 0.89 0.86 0.8  0.82 0.74 0.81 0.77 0.75 0.65 0.73 0.68 0.72 0.67\n",
      " 0.76 0.62 0.7  0.66 1.46 0.49 0.53 0.56 0.6  0.58 0.54 0.52 0.51 0.57\n",
      " 0.63 0.64 0.61 1.48 1.55 1.58 1.53 1.57 1.51 0.69 1.62 1.63 1.61 1.6\n",
      " 1.73 1.8  1.86 1.85 1.69 1.66 1.65 1.64 1.67 1.68 1.82 2.07 1.84 1.83\n",
      " 1.7  1.72 1.81 1.78 0.59 1.9  1.93 1.99 1.95 1.89 1.76 1.71 1.74 0.55\n",
      " 1.79 1.75 1.94 2.2  1.87 1.77 2.06 2.11 2.22 2.14 2.15 2.02 2.   1.88\n",
      " 1.96 2.19 2.09 1.98 1.97 1.92 2.04 0.46 2.01 2.08 2.03 2.05 2.28 2.35\n",
      " 2.29 1.91 2.18 2.24 2.12 2.13 2.16 2.32 2.34 2.33 2.31 2.23 2.27 2.3\n",
      " 2.41 2.36 2.37 2.39 2.42 2.45 2.38 2.4  2.25 2.26 2.17 2.21 2.1  2.58\n",
      " 2.79 2.66 2.59 2.74 2.73 2.77 2.71 2.72 2.76 2.75 2.49 2.54 2.67 2.68\n",
      " 2.57 2.85 3.03 2.91 2.44 2.65 2.46 2.62 2.47 2.55 2.52 2.61 2.82 2.51\n",
      " 2.56 2.88 2.94 2.99 3.12 3.25 2.93 2.64 2.89 2.83 2.78 2.63 2.8  2.48\n",
      " 2.5  2.53 0.44 0.48 2.6  2.43 2.81 3.05 2.87 2.86 2.84 3.   2.92 2.97\n",
      " 3.04 2.9  2.7  2.69 2.96 2.95 3.17]\n",
      "3-/ Total Volume (18237):    \n",
      "4-/ 4046 (17702):    \n",
      "5-/ 4225 (18103):    \n",
      "6-/ 4770 (12071):    \n",
      "7-/ Total Bags (18097):    \n",
      "8-/ Small Bags (17321):    \n",
      "9-/ Large Bags (15082):    \n",
      "10-/ XLarge Bags (5588):    \n",
      "11-/ year (4):    [2015 2016 2017 2018]\n",
      "12-/ day (31):    [27 20 13  6 29 22 15  8  1 25 18 11  4 30 23 16  9  2 26 19 12  5 28 21\n",
      " 14  7 31 24 17 10  3]\n",
      "13-/ month (12):    [12 11 10  9  8  7  6  5  4  3  2  1]\n",
      "14-/ Season (4):    [3 2 1 0]\n"
     ]
    }
   ],
   "source": [
    "# Categorical & continueous\n",
    "count = 1\n",
    "for obj in numbers_vaiables:\n",
    "    print('{}-/ {} ({}):    {}'.format(count, obj, len(df[obj].unique()), df[obj].unique() if len(df[obj].unique()) < 1824 else ''))\n",
    "    count +=1"
   ]
  },
  {
   "cell_type": "code",
   "execution_count": 16,
   "id": "edc59971",
   "metadata": {},
   "outputs": [
    {
     "name": "stdout",
     "output_type": "stream",
     "text": [
      "1-/ type (2):   ['conventional' 'organic']\n",
      "2-/ region (54):   ['Albany' 'Atlanta' 'BaltimoreWashington' 'Boise' 'Boston'\n",
      " 'BuffaloRochester' 'California' 'Charlotte' 'Chicago' 'CincinnatiDayton'\n",
      " 'Columbus' 'DallasFtWorth' 'Denver' 'Detroit' 'GrandRapids' 'GreatLakes'\n",
      " 'HarrisburgScranton' 'HartfordSpringfield' 'Houston' 'Indianapolis'\n",
      " 'Jacksonville' 'LasVegas' 'LosAngeles' 'Louisville' 'MiamiFtLauderdale'\n",
      " 'Midsouth' 'Nashville' 'NewOrleansMobile' 'NewYork' 'Northeast'\n",
      " 'NorthernNewEngland' 'Orlando' 'Philadelphia' 'PhoenixTucson'\n",
      " 'Pittsburgh' 'Plains' 'Portland' 'RaleighGreensboro' 'RichmondNorfolk'\n",
      " 'Roanoke' 'Sacramento' 'SanDiego' 'SanFrancisco' 'Seattle'\n",
      " 'SouthCarolina' 'SouthCentral' 'Southeast' 'Spokane' 'StLouis' 'Syracuse'\n",
      " 'Tampa' 'TotalUS' 'West' 'WestTexNewMexico']\n"
     ]
    }
   ],
   "source": [
    "# Categorical:\n",
    "count = 1\n",
    "for obj in objects_vaiables:\n",
    "    print('{}-/ {} ({}):   {}'.format(count, obj, len(df[obj].unique()), df[obj].unique()))\n",
    "    count +=1"
   ]
  },
  {
   "cell_type": "markdown",
   "id": "ab8b889e",
   "metadata": {},
   "source": [
    "- Continous = AveragePrice, Total Volume, 4046, 4225, 4770, Total Bags, Small Bags, Large Bags, XLarge Bags\n",
    "- Categorical = type, region, year, day, month"
   ]
  },
  {
   "cell_type": "markdown",
   "id": "a82fbce2",
   "metadata": {},
   "source": [
    "### Variable analysis"
   ]
  },
  {
   "cell_type": "code",
   "execution_count": 17,
   "id": "722f1592",
   "metadata": {},
   "outputs": [],
   "source": [
    "# continous variable\n",
    "lst_continuous = ['AveragePrice', 'Total Volume', '4046', '4225', '4770', 'Total Bags', 'Small Bags', 'Large Bags', 'XLarge Bags']"
   ]
  },
  {
   "cell_type": "code",
   "execution_count": 18,
   "id": "cda2830a",
   "metadata": {},
   "outputs": [
    {
     "name": "stdout",
     "output_type": "stream",
     "text": [
      "AveragePrice\n",
      "count    18249.000000\n",
      "mean         1.405978\n",
      "std          0.402677\n",
      "min          0.440000\n",
      "25%          1.100000\n",
      "50%          1.370000\n",
      "75%          1.660000\n",
      "max          3.250000\n",
      "Name: AveragePrice, dtype: float64\n",
      "median: 1.37\n",
      "mode: 0    1.15\n",
      "Name: AveragePrice, dtype: float64\n",
      "Q1: 1.1\n",
      "Q3: 1.66\n",
      "IQR: 0.5599999999999998\n",
      "variance: 0.1621484083457613\n",
      "skew: 0.5803027378878419 => Phân phối lệch phải\n",
      "kurtosis: 0.3251958506534338 => Phân phối nhọn hơn phân phối chuẩn\n"
     ]
    },
    {
     "data": {
      "image/png": "[encoded data removed]",
      "text/plain": [
       "<Figure size 720x360 with 2 Axes>"
      ]
     },
     "metadata": {
      "needs_background": "light"
     },
     "output_type": "display_data"
    },
    {
     "data": {
      "image/png": "[encoded data removed]",
      "text/plain": [
       "<Figure size 288x576 with 1 Axes>"
      ]
     },
     "metadata": {
      "needs_background": "light"
     },
     "output_type": "display_data"
    },
    {
     "name": "stdout",
     "output_type": "stream",
     "text": [
      "Number of upper outlier: 209\n",
      "Number of lower outlier: 0\n",
      "Percentage of outlier: 0.011452682338758288\n",
      "---------------------------------------------------------------------------\n",
      "Total Volume\n",
      "count    1.824900e+04\n",
      "mean     8.506440e+05\n",
      "std      3.453545e+06\n",
      "min      8.456000e+01\n",
      "25%      1.083858e+04\n",
      "50%      1.073768e+05\n",
      "75%      4.329623e+05\n",
      "max      6.250565e+07\n",
      "Name: Total Volume, dtype: float64\n",
      "median: 107376.76\n",
      "mode: 0       2038.99\n",
      "1       2858.31\n",
      "2       3288.85\n",
      "3       3529.44\n",
      "4       3713.49\n",
      "5       4103.97\n",
      "6       7223.46\n",
      "7       9465.99\n",
      "8      13234.04\n",
      "9      19634.24\n",
      "10     46602.16\n",
      "11    569349.05\n",
      "Name: Total Volume, dtype: float64\n",
      "Q1: 10838.58\n",
      "Q3: 432962.29\n",
      "IQR: 422123.70999999996\n",
      "variance: 11926975521801.262\n",
      "skew: 9.00768747885452 => Phân phối lệch phải\n",
      "kurtosis: 92.10445777646086 => Phân phối nhọn hơn phân phối chuẩn\n"
     ]
    },
    {
     "data": {
      "image/png": "[encoded data removed]",
      "text/plain": [
       "<Figure size 720x360 with 2 Axes>"
      ]
     },
     "metadata": {
      "needs_background": "light"
     },
     "output_type": "display_data"
    },
    {
     "data": {
      "image/png": "[encoded data removed]",
      "text/plain": [
       "<Figure size 288x576 with 1 Axes>"
      ]
     },
     "metadata": {
      "needs_background": "light"
     },
     "output_type": "display_data"
    },
    {
     "name": "stdout",
     "output_type": "stream",
     "text": [
      "Number of upper outlier: 2297\n",
      "Number of lower outlier: 0\n",
      "Percentage of outlier: 0.12586991068003725\n",
      "---------------------------------------------------------------------------\n",
      "4046\n",
      "count    1.824900e+04\n",
      "mean     2.930084e+05\n",
      "std      1.264989e+06\n",
      "min      0.000000e+00\n",
      "25%      8.540700e+02\n",
      "50%      8.645300e+03\n",
      "75%      1.110202e+05\n",
      "max      2.274362e+07\n",
      "Name: 4046, dtype: float64\n",
      "median: 8645.3\n",
      "mode: 0    0.0\n",
      "Name: 4046, dtype: float64\n",
      "Q1: 854.07\n",
      "Q3: 111020.2\n",
      "IQR: 110166.12999999999\n",
      "variance: 1600197376979.0344\n",
      "skew: 8.648219757025226 => Phân phối lệch phải\n",
      "kurtosis: 86.80911256453511 => Phân phối nhọn hơn phân phối chuẩn\n"
     ]
    },
    {
     "data": {
      "image/png": "[encoded data removed]",
      "text/plain": [
       "<Figure size 720x360 with 2 Axes>"
      ]
     },
     "metadata": {
      "needs_background": "light"
     },
     "output_type": "display_data"
    },
    {
     "data": {
      "image/png": "[encoded data removed]",
      "text/plain": [
       "<Figure size 288x576 with 1 Axes>"
      ]
     },
     "metadata": {
      "needs_background": "light"
     },
     "output_type": "display_data"
    },
    {
     "name": "stdout",
     "output_type": "stream",
     "text": [
      "Number of upper outlier: 2518\n",
      "Number of lower outlier: 0\n",
      "Percentage of outlier: 0.137980163296619\n",
      "---------------------------------------------------------------------------\n",
      "4225\n",
      "count    1.824900e+04\n",
      "mean     2.951546e+05\n",
      "std      1.204120e+06\n",
      "min      0.000000e+00\n",
      "25%      3.008780e+03\n",
      "50%      2.906102e+04\n",
      "75%      1.502069e+05\n",
      "max      2.047057e+07\n",
      "Name: 4225, dtype: float64\n",
      "median: 29061.02\n",
      "mode: 0    0.0\n",
      "Name: 4225, dtype: float64\n",
      "Q1: 3008.78\n",
      "Q3: 150206.86\n",
      "IQR: 147198.08\n",
      "variance: 1449905940429.6353\n",
      "skew: 8.942465607536276 => Phân phối lệch phải\n",
      "kurtosis: 91.94902196597442 => Phân phối nhọn hơn phân phối chuẩn\n"
     ]
    },
    {
     "data": {
      "image/png": "[encoded data removed]",
      "text/plain": [
       "<Figure size 720x360 with 2 Axes>"
      ]
     },
     "metadata": {
      "needs_background": "light"
     },
     "output_type": "display_data"
    },
    {
     "data": {
      "image/png": "[encoded data removed]",
      "text/plain": [
       "<Figure size 288x576 with 1 Axes>"
      ]
     },
     "metadata": {
      "needs_background": "light"
     },
     "output_type": "display_data"
    },
    {
     "name": "stdout",
     "output_type": "stream",
     "text": [
      "Number of upper outlier: 2519\n",
      "Number of lower outlier: 0\n",
      "Percentage of outlier: 0.13803496081977096\n",
      "---------------------------------------------------------------------------\n",
      "4770\n",
      "count    1.824900e+04\n",
      "mean     2.283974e+04\n",
      "std      1.074641e+05\n",
      "min      0.000000e+00\n",
      "25%      0.000000e+00\n",
      "50%      1.849900e+02\n",
      "75%      6.243420e+03\n",
      "max      2.546439e+06\n",
      "Name: 4770, dtype: float64\n",
      "median: 184.99\n",
      "mode: 0    0.0\n",
      "Name: 4770, dtype: float64\n",
      "Q1: 0.0\n",
      "Q3: 6243.42\n",
      "IQR: 6243.42\n",
      "variance: 11548526004.682043\n",
      "skew: 10.15939562715204 => Phân phối lệch phải\n",
      "kurtosis: 132.5634408664653 => Phân phối nhọn hơn phân phối chuẩn\n"
     ]
    },
    {
     "data": {
      "image/png": "[encoded data removed]",
      "text/plain": [
       "<Figure size 720x360 with 2 Axes>"
      ]
     },
     "metadata": {
      "needs_background": "light"
     },
     "output_type": "display_data"
    },
    {
     "data": {
      "image/png": "[encoded data removed]",
      "text/plain": [
       "<Figure size 288x576 with 1 Axes>"
      ]
     },
     "metadata": {
      "needs_background": "light"
     },
     "output_type": "display_data"
    },
    {
     "name": "stdout",
     "output_type": "stream",
     "text": [
      "Number of upper outlier: 2918\n",
      "Number of lower outlier: 0\n",
      "Percentage of outlier: 0.1598991725574004\n",
      "---------------------------------------------------------------------------\n",
      "Total Bags\n",
      "count    1.824900e+04\n",
      "mean     2.396392e+05\n",
      "std      9.862424e+05\n",
      "min      0.000000e+00\n",
      "25%      5.088640e+03\n",
      "50%      3.974383e+04\n",
      "75%      1.107834e+05\n",
      "max      1.937313e+07\n",
      "Name: Total Bags, dtype: float64\n",
      "median: 39743.83\n",
      "mode: 0    0.0\n",
      "Name: Total Bags, dtype: float64\n",
      "Q1: 5088.64\n",
      "Q3: 110783.37\n",
      "IQR: 105694.73\n",
      "variance: 972674070012.1442\n",
      "skew: 9.756071670300289 => Phân phối lệch phải\n",
      "kurtosis: 112.27215647043404 => Phân phối nhọn hơn phân phối chuẩn\n"
     ]
    },
    {
     "data": {
      "image/png": "[encoded data removed]",
      "text/plain": [
       "<Figure size 720x360 with 2 Axes>"
      ]
     },
     "metadata": {
      "needs_background": "light"
     },
     "output_type": "display_data"
    },
    {
     "data": {
      "image/png": "[encoded data removed]",
      "text/plain": [
       "<Figure size 288x576 with 1 Axes>"
      ]
     },
     "metadata": {
      "needs_background": "light"
     },
     "output_type": "display_data"
    },
    {
     "name": "stdout",
     "output_type": "stream",
     "text": [
      "Number of upper outlier: 2533\n",
      "Number of lower outlier: 0\n",
      "Percentage of outlier: 0.1388021261438983\n",
      "---------------------------------------------------------------------------\n",
      "Small Bags\n",
      "count    1.824900e+04\n",
      "mean     1.821947e+05\n",
      "std      7.461785e+05\n",
      "min      0.000000e+00\n",
      "25%      2.849420e+03\n",
      "50%      2.636282e+04\n",
      "75%      8.333767e+04\n",
      "max      1.338459e+07\n",
      "Name: Small Bags, dtype: float64\n",
      "median: 26362.82\n",
      "mode: 0    0.0\n",
      "Name: Small Bags, dtype: float64\n",
      "Q1: 2849.42\n",
      "Q3: 83337.67\n",
      "IQR: 80488.25\n",
      "variance: 556782376190.5807\n",
      "skew: 9.540659981758614 => Phân phối lệch phải\n",
      "kurtosis: 107.01288512522609 => Phân phối nhọn hơn phân phối chuẩn\n"
     ]
    },
    {
     "data": {
      "image/png": "[encoded data removed]",
      "text/plain": [
       "<Figure size 720x360 with 2 Axes>"
      ]
     },
     "metadata": {
      "needs_background": "light"
     },
     "output_type": "display_data"
    },
    {
     "data": {
      "image/png": "[encoded data removed]",
      "text/plain": [
       "<Figure size 288x576 with 1 Axes>"
      ]
     },
     "metadata": {
      "needs_background": "light"
     },
     "output_type": "display_data"
    },
    {
     "name": "stdout",
     "output_type": "stream",
     "text": [
      "Number of upper outlier: 2407\n",
      "Number of lower outlier: 0\n",
      "Percentage of outlier: 0.13189763822675216\n",
      "---------------------------------------------------------------------------\n",
      "Large Bags\n",
      "count    1.824900e+04\n",
      "mean     5.433809e+04\n",
      "std      2.439660e+05\n",
      "min      0.000000e+00\n",
      "25%      1.274700e+02\n",
      "50%      2.647710e+03\n",
      "75%      2.202925e+04\n",
      "max      5.719097e+06\n",
      "Name: Large Bags, dtype: float64\n",
      "median: 2647.71\n",
      "mode: 0    0.0\n",
      "Name: Large Bags, dtype: float64\n",
      "Q1: 127.47\n",
      "Q3: 22029.25\n",
      "IQR: 21901.78\n",
      "variance: 59519391857.54754\n",
      "skew: 9.796454598705258 => Phân phối lệch phải\n",
      "kurtosis: 117.99948104584172 => Phân phối nhọn hơn phân phối chuẩn\n"
     ]
    },
    {
     "data": {
      "image/png": "[encoded data removed]",
      "text/plain": [
       "<Figure size 720x360 with 2 Axes>"
      ]
     },
     "metadata": {
      "needs_background": "light"
     },
     "output_type": "display_data"
    },
    {
     "data": {
      "image/png": "[encoded data removed]",
      "text/plain": [
       "<Figure size 288x576 with 1 Axes>"
      ]
     },
     "metadata": {
      "needs_background": "light"
     },
     "output_type": "display_data"
    },
    {
     "name": "stdout",
     "output_type": "stream",
     "text": [
      "Number of upper outlier: 2707\n",
      "Number of lower outlier: 0\n",
      "Percentage of outlier: 0.14833689517233822\n",
      "---------------------------------------------------------------------------\n",
      "XLarge Bags\n",
      "count     18249.000000\n",
      "mean       3106.426507\n",
      "std       17692.894652\n",
      "min           0.000000\n",
      "25%           0.000000\n",
      "50%           0.000000\n",
      "75%         132.500000\n",
      "max      551693.650000\n",
      "Name: XLarge Bags, dtype: float64\n",
      "median: 0.0\n",
      "mode: 0    0.0\n",
      "Name: XLarge Bags, dtype: float64\n",
      "Q1: 0.0\n",
      "Q3: 132.5\n",
      "IQR: 132.5\n",
      "variance: 313038521.16381496\n",
      "skew: 13.13975068600658 => Phân phối lệch phải\n",
      "kurtosis: 233.60261186166983 => Phân phối nhọn hơn phân phối chuẩn\n"
     ]
    },
    {
     "data": {
      "image/png": "[encoded data removed]",
      "text/plain": [
       "<Figure size 720x360 with 2 Axes>"
      ]
     },
     "metadata": {
      "needs_background": "light"
     },
     "output_type": "display_data"
    },
    {
     "data": {
      "image/png": "[encoded data removed]",
      "text/plain": [
       "<Figure size 288x576 with 1 Axes>"
      ]
     },
     "metadata": {
      "needs_background": "light"
     },
     "output_type": "display_data"
    },
    {
     "name": "stdout",
     "output_type": "stream",
     "text": [
      "Number of upper outlier: 4014\n",
      "Number of lower outlier: 0\n",
      "Percentage of outlier: 0.21995725793194149\n",
      "---------------------------------------------------------------------------\n"
     ]
    }
   ],
   "source": [
    "# analysis continous\n",
    "for col in lst_continuous:\n",
    "    print(col)\n",
    "    univariate_analysis(df,col)\n",
    "    his_explor(df, col)\n",
    "    boxplot_explor(df, col)\n",
    "    print(\"Number of upper outlier:\",check_outlier(df, col)[0])\n",
    "    print(\"Number of lower outlier:\",check_outlier(df, col)[1])\n",
    "    print(\"Percentage of outlier:\",check_outlier(df, col)[2])\n",
    "    print('-'*75)"
   ]
  },
  {
   "cell_type": "code",
   "execution_count": 19,
   "id": "322ffcaa",
   "metadata": {},
   "outputs": [],
   "source": [
    "lst_categories = ['type', 'region','year', 'day', 'month', 'Season']"
   ]
  },
  {
   "cell_type": "code",
   "execution_count": 20,
   "id": "036b0557",
   "metadata": {},
   "outputs": [
    {
     "name": "stdout",
     "output_type": "stream",
     "text": [
      "conventional    9126\n",
      "organic         9123\n",
      "Name: type, dtype: int64\n"
     ]
    },
    {
     "data": {
      "image/png": "[encoded data removed]",
      "text/plain": [
       "<Figure size 432x288 with 1 Axes>"
      ]
     },
     "metadata": {},
     "output_type": "display_data"
    },
    {
     "name": "stdout",
     "output_type": "stream",
     "text": [
      "---------------------------------------------------------------------------\n",
      "Albany                 338\n",
      "Sacramento             338\n",
      "Northeast              338\n",
      "NorthernNewEngland     338\n",
      "Orlando                338\n",
      "Philadelphia           338\n",
      "PhoenixTucson          338\n",
      "Pittsburgh             338\n",
      "Plains                 338\n",
      "Portland               338\n",
      "RaleighGreensboro      338\n",
      "RichmondNorfolk        338\n",
      "Roanoke                338\n",
      "SanDiego               338\n",
      "Atlanta                338\n",
      "SanFrancisco           338\n",
      "Seattle                338\n",
      "SouthCarolina          338\n",
      "SouthCentral           338\n",
      "Southeast              338\n",
      "Spokane                338\n",
      "StLouis                338\n",
      "Syracuse               338\n",
      "Tampa                  338\n",
      "TotalUS                338\n",
      "West                   338\n",
      "NewYork                338\n",
      "NewOrleansMobile       338\n",
      "Nashville              338\n",
      "Midsouth               338\n",
      "BaltimoreWashington    338\n",
      "Boise                  338\n",
      "Boston                 338\n",
      "BuffaloRochester       338\n",
      "California             338\n",
      "Charlotte              338\n",
      "Chicago                338\n",
      "CincinnatiDayton       338\n",
      "Columbus               338\n",
      "DallasFtWorth          338\n",
      "Denver                 338\n",
      "Detroit                338\n",
      "GrandRapids            338\n",
      "GreatLakes             338\n",
      "HarrisburgScranton     338\n",
      "HartfordSpringfield    338\n",
      "Houston                338\n",
      "Indianapolis           338\n",
      "Jacksonville           338\n",
      "LasVegas               338\n",
      "LosAngeles             338\n",
      "Louisville             338\n",
      "MiamiFtLauderdale      338\n",
      "WestTexNewMexico       335\n",
      "Name: region, dtype: int64\n"
     ]
    },
    {
     "data": {
      "image/png": "[encoded data removed]",
      "text/plain": [
       "<Figure size 432x288 with 1 Axes>"
      ]
     },
     "metadata": {},
     "output_type": "display_data"
    },
    {
     "name": "stdout",
     "output_type": "stream",
     "text": [
      "---------------------------------------------------------------------------\n",
      "2017    5722\n",
      "2016    5616\n",
      "2015    5615\n",
      "2018    1296\n",
      "Name: year, dtype: int64\n"
     ]
    },
    {
     "data": {
      "image/png": "[encoded data removed]",
      "text/plain": [
       "<Figure size 432x288 with 1 Axes>"
      ]
     },
     "metadata": {},
     "output_type": "display_data"
    },
    {
     "name": "stdout",
     "output_type": "stream",
     "text": [
      "---------------------------------------------------------------------------\n",
      "4     756\n",
      "11    756\n",
      "18    755\n",
      "25    755\n",
      "1     648\n",
      "26    648\n",
      "5     648\n",
      "12    648\n",
      "3     648\n",
      "8     648\n",
      "15    648\n",
      "22    648\n",
      "24    648\n",
      "17    648\n",
      "10    648\n",
      "19    648\n",
      "7     540\n",
      "14    540\n",
      "21    540\n",
      "28    540\n",
      "27    540\n",
      "20    540\n",
      "29    540\n",
      "13    540\n",
      "6     539\n",
      "2     432\n",
      "9     432\n",
      "23    432\n",
      "30    432\n",
      "31    432\n",
      "16    432\n",
      "Name: day, dtype: int64\n"
     ]
    },
    {
     "data": {
      "image/png": "[encoded data removed]",
      "text/plain": [
       "<Figure size 432x288 with 1 Axes>"
      ]
     },
     "metadata": {},
     "output_type": "display_data"
    },
    {
     "name": "stdout",
     "output_type": "stream",
     "text": [
      "---------------------------------------------------------------------------\n",
      "1     1944\n",
      "3     1836\n",
      "2     1728\n",
      "10    1512\n",
      "7     1512\n",
      "5     1512\n",
      "11    1404\n",
      "8     1404\n",
      "4     1404\n",
      "12    1403\n",
      "9     1296\n",
      "6     1294\n",
      "Name: month, dtype: int64\n"
     ]
    },
    {
     "data": {
      "image/png": "[encoded data removed]",
      "text/plain": [
       "<Figure size 432x288 with 1 Axes>"
      ]
     },
     "metadata": {},
     "output_type": "display_data"
    },
    {
     "name": "stdout",
     "output_type": "stream",
     "text": [
      "---------------------------------------------------------------------------\n",
      "3    5075\n",
      "0    4752\n",
      "2    4212\n",
      "1    4210\n",
      "Name: Season, dtype: int64\n"
     ]
    },
    {
     "data": {
      "image/png": "[encoded data removed]",
      "text/plain": [
       "<Figure size 432x288 with 1 Axes>"
      ]
     },
     "metadata": {},
     "output_type": "display_data"
    },
    {
     "name": "stdout",
     "output_type": "stream",
     "text": [
      "---------------------------------------------------------------------------\n"
     ]
    }
   ],
   "source": [
    "# analysis categoricals\n",
    "for col in lst_categories:\n",
    "    print(df[col].value_counts())\n",
    "    sns.set()\n",
    "    df[col].value_counts().plot.bar()\n",
    "    plt.xticks(rotation=60)\n",
    "    plt.show()\n",
    "    print('-'*75)"
   ]
  },
  {
   "cell_type": "code",
   "execution_count": 21,
   "id": "6f67eb05",
   "metadata": {},
   "outputs": [],
   "source": [
    "# # corr\n",
    "# sns.pairplot(df[lst_continuous].dropna())\n",
    "# plt.show()"
   ]
  },
  {
   "cell_type": "code",
   "execution_count": 22,
   "id": "8af9c548",
   "metadata": {},
   "outputs": [
    {
     "data": {
      "text/html": [
       "<div>\n",
       "<style scoped>\n",
       "    .dataframe tbody tr th:only-of-type {\n",
       "        vertical-align: middle;\n",
       "    }\n",
       "\n",
       "    .dataframe tbody tr th {\n",
       "        vertical-align: top;\n",
       "    }\n",
       "\n",
       "    .dataframe thead th {\n",
       "        text-align: right;\n",
       "    }\n",
       "</style>\n",
       "<table border=\"1\" class=\"dataframe\">\n",
       "  <thead>\n",
       "    <tr style=\"text-align: right;\">\n",
       "      <th></th>\n",
       "      <th>AveragePrice</th>\n",
       "      <th>Total Volume</th>\n",
       "      <th>4046</th>\n",
       "      <th>4225</th>\n",
       "      <th>4770</th>\n",
       "      <th>Total Bags</th>\n",
       "      <th>Small Bags</th>\n",
       "      <th>Large Bags</th>\n",
       "      <th>XLarge Bags</th>\n",
       "    </tr>\n",
       "  </thead>\n",
       "  <tbody>\n",
       "    <tr>\n",
       "      <th>AveragePrice</th>\n",
       "      <td>1.000000</td>\n",
       "      <td>-0.192752</td>\n",
       "      <td>-0.208317</td>\n",
       "      <td>-0.172928</td>\n",
       "      <td>-0.179446</td>\n",
       "      <td>-0.177088</td>\n",
       "      <td>-0.174730</td>\n",
       "      <td>-0.172940</td>\n",
       "      <td>-0.117592</td>\n",
       "    </tr>\n",
       "    <tr>\n",
       "      <th>Total Volume</th>\n",
       "      <td>-0.192752</td>\n",
       "      <td>1.000000</td>\n",
       "      <td>0.977863</td>\n",
       "      <td>0.974181</td>\n",
       "      <td>0.872202</td>\n",
       "      <td>0.963047</td>\n",
       "      <td>0.967238</td>\n",
       "      <td>0.880640</td>\n",
       "      <td>0.747157</td>\n",
       "    </tr>\n",
       "    <tr>\n",
       "      <th>4046</th>\n",
       "      <td>-0.208317</td>\n",
       "      <td>0.977863</td>\n",
       "      <td>1.000000</td>\n",
       "      <td>0.926110</td>\n",
       "      <td>0.833389</td>\n",
       "      <td>0.920057</td>\n",
       "      <td>0.925280</td>\n",
       "      <td>0.838645</td>\n",
       "      <td>0.699377</td>\n",
       "    </tr>\n",
       "    <tr>\n",
       "      <th>4225</th>\n",
       "      <td>-0.172928</td>\n",
       "      <td>0.974181</td>\n",
       "      <td>0.926110</td>\n",
       "      <td>1.000000</td>\n",
       "      <td>0.887855</td>\n",
       "      <td>0.905787</td>\n",
       "      <td>0.916031</td>\n",
       "      <td>0.810015</td>\n",
       "      <td>0.688809</td>\n",
       "    </tr>\n",
       "    <tr>\n",
       "      <th>4770</th>\n",
       "      <td>-0.179446</td>\n",
       "      <td>0.872202</td>\n",
       "      <td>0.833389</td>\n",
       "      <td>0.887855</td>\n",
       "      <td>1.000000</td>\n",
       "      <td>0.792314</td>\n",
       "      <td>0.802733</td>\n",
       "      <td>0.698471</td>\n",
       "      <td>0.679861</td>\n",
       "    </tr>\n",
       "    <tr>\n",
       "      <th>Total Bags</th>\n",
       "      <td>-0.177088</td>\n",
       "      <td>0.963047</td>\n",
       "      <td>0.920057</td>\n",
       "      <td>0.905787</td>\n",
       "      <td>0.792314</td>\n",
       "      <td>1.000000</td>\n",
       "      <td>0.994335</td>\n",
       "      <td>0.943009</td>\n",
       "      <td>0.804233</td>\n",
       "    </tr>\n",
       "    <tr>\n",
       "      <th>Small Bags</th>\n",
       "      <td>-0.174730</td>\n",
       "      <td>0.967238</td>\n",
       "      <td>0.925280</td>\n",
       "      <td>0.916031</td>\n",
       "      <td>0.802733</td>\n",
       "      <td>0.994335</td>\n",
       "      <td>1.000000</td>\n",
       "      <td>0.902589</td>\n",
       "      <td>0.806845</td>\n",
       "    </tr>\n",
       "    <tr>\n",
       "      <th>Large Bags</th>\n",
       "      <td>-0.172940</td>\n",
       "      <td>0.880640</td>\n",
       "      <td>0.838645</td>\n",
       "      <td>0.810015</td>\n",
       "      <td>0.698471</td>\n",
       "      <td>0.943009</td>\n",
       "      <td>0.902589</td>\n",
       "      <td>1.000000</td>\n",
       "      <td>0.710858</td>\n",
       "    </tr>\n",
       "    <tr>\n",
       "      <th>XLarge Bags</th>\n",
       "      <td>-0.117592</td>\n",
       "      <td>0.747157</td>\n",
       "      <td>0.699377</td>\n",
       "      <td>0.688809</td>\n",
       "      <td>0.679861</td>\n",
       "      <td>0.804233</td>\n",
       "      <td>0.806845</td>\n",
       "      <td>0.710858</td>\n",
       "      <td>1.000000</td>\n",
       "    </tr>\n",
       "  </tbody>\n",
       "</table>\n",
       "</div>"
      ],
      "text/plain": [
       "              AveragePrice  Total Volume      4046      4225      4770  \\\n",
       "AveragePrice      1.000000     -0.192752 -0.208317 -0.172928 -0.179446   \n",
       "Total Volume     -0.192752      1.000000  0.977863  0.974181  0.872202   \n",
       "4046             -0.208317      0.977863  1.000000  0.926110  0.833389   \n",
       "4225             -0.172928      0.974181  0.926110  1.000000  0.887855   \n",
       "4770             -0.179446      0.872202  0.833389  0.887855  1.000000   \n",
       "Total Bags       -0.177088      0.963047  0.920057  0.905787  0.792314   \n",
       "Small Bags       -0.174730      0.967238  0.925280  0.916031  0.802733   \n",
       "Large Bags       -0.172940      0.880640  0.838645  0.810015  0.698471   \n",
       "XLarge Bags      -0.117592      0.747157  0.699377  0.688809  0.679861   \n",
       "\n",
       "              Total Bags  Small Bags  Large Bags  XLarge Bags  \n",
       "AveragePrice   -0.177088   -0.174730   -0.172940    -0.117592  \n",
       "Total Volume    0.963047    0.967238    0.880640     0.747157  \n",
       "4046            0.920057    0.925280    0.838645     0.699377  \n",
       "4225            0.905787    0.916031    0.810015     0.688809  \n",
       "4770            0.792314    0.802733    0.698471     0.679861  \n",
       "Total Bags      1.000000    0.994335    0.943009     0.804233  \n",
       "Small Bags      0.994335    1.000000    0.902589     0.806845  \n",
       "Large Bags      0.943009    0.902589    1.000000     0.710858  \n",
       "XLarge Bags     0.804233    0.806845    0.710858     1.000000  "
      ]
     },
     "execution_count": 22,
     "metadata": {},
     "output_type": "execute_result"
    }
   ],
   "source": [
    "# corr\n",
    "df[lst_continuous].corr()"
   ]
  },
  {
   "cell_type": "code",
   "execution_count": 23,
   "id": "6f3af450",
   "metadata": {},
   "outputs": [
    {
     "data": {
      "text/html": [
       "<div>\n",
       "<style scoped>\n",
       "    .dataframe tbody tr th:only-of-type {\n",
       "        vertical-align: middle;\n",
       "    }\n",
       "\n",
       "    .dataframe tbody tr th {\n",
       "        vertical-align: top;\n",
       "    }\n",
       "\n",
       "    .dataframe thead th {\n",
       "        text-align: right;\n",
       "    }\n",
       "</style>\n",
       "<table border=\"1\" class=\"dataframe\">\n",
       "  <thead>\n",
       "    <tr style=\"text-align: right;\">\n",
       "      <th></th>\n",
       "      <th>type</th>\n",
       "      <th>AveragePrice</th>\n",
       "    </tr>\n",
       "  </thead>\n",
       "  <tbody>\n",
       "    <tr>\n",
       "      <th>0</th>\n",
       "      <td>conventional</td>\n",
       "      <td>1.33</td>\n",
       "    </tr>\n",
       "    <tr>\n",
       "      <th>1</th>\n",
       "      <td>conventional</td>\n",
       "      <td>1.35</td>\n",
       "    </tr>\n",
       "    <tr>\n",
       "      <th>2</th>\n",
       "      <td>conventional</td>\n",
       "      <td>0.93</td>\n",
       "    </tr>\n",
       "    <tr>\n",
       "      <th>3</th>\n",
       "      <td>conventional</td>\n",
       "      <td>1.08</td>\n",
       "    </tr>\n",
       "    <tr>\n",
       "      <th>4</th>\n",
       "      <td>conventional</td>\n",
       "      <td>1.28</td>\n",
       "    </tr>\n",
       "  </tbody>\n",
       "</table>\n",
       "</div>"
      ],
      "text/plain": [
       "           type  AveragePrice\n",
       "0  conventional          1.33\n",
       "1  conventional          1.35\n",
       "2  conventional          0.93\n",
       "3  conventional          1.08\n",
       "4  conventional          1.28"
      ]
     },
     "execution_count": 23,
     "metadata": {},
     "output_type": "execute_result"
    }
   ],
   "source": [
    "# AveragePrice - type\n",
    "df_sub = df[['type','AveragePrice']]\n",
    "df_sub.columns = ['type','AveragePrice']\n",
    "df_sub.head()"
   ]
  },
  {
   "cell_type": "code",
   "execution_count": 24,
   "id": "6873f59f",
   "metadata": {},
   "outputs": [
    {
     "data": {
      "text/html": [
       "<div>\n",
       "<style scoped>\n",
       "    .dataframe tbody tr th:only-of-type {\n",
       "        vertical-align: middle;\n",
       "    }\n",
       "\n",
       "    .dataframe tbody tr th {\n",
       "        vertical-align: top;\n",
       "    }\n",
       "\n",
       "    .dataframe thead th {\n",
       "        text-align: right;\n",
       "    }\n",
       "</style>\n",
       "<table border=\"1\" class=\"dataframe\">\n",
       "  <thead>\n",
       "    <tr style=\"text-align: right;\">\n",
       "      <th></th>\n",
       "      <th>sum_sq</th>\n",
       "      <th>df</th>\n",
       "      <th>F</th>\n",
       "      <th>PR(&gt;F)</th>\n",
       "    </tr>\n",
       "  </thead>\n",
       "  <tbody>\n",
       "    <tr>\n",
       "      <th>C(type)</th>\n",
       "      <td>1122.200998</td>\n",
       "      <td>1.0</td>\n",
       "      <td>11148.793695</td>\n",
       "      <td>0.0</td>\n",
       "    </tr>\n",
       "    <tr>\n",
       "      <th>Residual</th>\n",
       "      <td>1836.683158</td>\n",
       "      <td>18247.0</td>\n",
       "      <td>NaN</td>\n",
       "      <td>NaN</td>\n",
       "    </tr>\n",
       "  </tbody>\n",
       "</table>\n",
       "</div>"
      ],
      "text/plain": [
       "               sum_sq       df             F  PR(>F)\n",
       "C(type)   1122.200998      1.0  11148.793695     0.0\n",
       "Residual  1836.683158  18247.0           NaN     NaN"
      ]
     },
     "execution_count": 24,
     "metadata": {},
     "output_type": "execute_result"
    }
   ],
   "source": [
    "model = ols('AveragePrice ~ C(type)', data=df_sub).fit()\n",
    "anova_table = sm.stats.anova_lm(model, typ=2)\n",
    "anova_table"
   ]
  },
  {
   "cell_type": "markdown",
   "id": "cdf2996d",
   "metadata": {},
   "source": [
    "=> type có ảnh hưởng tới AveragePrice"
   ]
  },
  {
   "cell_type": "code",
   "execution_count": 25,
   "id": "3f0606ed",
   "metadata": {},
   "outputs": [
    {
     "data": {
      "image/png": "[encoded data removed]",
      "text/plain": [
       "<Figure size 864x720 with 1 Axes>"
      ]
     },
     "metadata": {},
     "output_type": "display_data"
    }
   ],
   "source": [
    "plt.figure(figsize=(12,10))\n",
    "sns.boxplot(x='type',y='AveragePrice', data=df_sub)\n",
    "plt.xticks(rotation=60)\n",
    "plt.show()"
   ]
  },
  {
   "cell_type": "code",
   "execution_count": 26,
   "id": "04d7b6c3",
   "metadata": {},
   "outputs": [
    {
     "data": {
      "text/html": [
       "<div>\n",
       "<style scoped>\n",
       "    .dataframe tbody tr th:only-of-type {\n",
       "        vertical-align: middle;\n",
       "    }\n",
       "\n",
       "    .dataframe tbody tr th {\n",
       "        vertical-align: top;\n",
       "    }\n",
       "\n",
       "    .dataframe thead th {\n",
       "        text-align: right;\n",
       "    }\n",
       "</style>\n",
       "<table border=\"1\" class=\"dataframe\">\n",
       "  <thead>\n",
       "    <tr style=\"text-align: right;\">\n",
       "      <th></th>\n",
       "      <th>region</th>\n",
       "      <th>AveragePrice</th>\n",
       "    </tr>\n",
       "  </thead>\n",
       "  <tbody>\n",
       "    <tr>\n",
       "      <th>0</th>\n",
       "      <td>Albany</td>\n",
       "      <td>1.33</td>\n",
       "    </tr>\n",
       "    <tr>\n",
       "      <th>1</th>\n",
       "      <td>Albany</td>\n",
       "      <td>1.35</td>\n",
       "    </tr>\n",
       "    <tr>\n",
       "      <th>2</th>\n",
       "      <td>Albany</td>\n",
       "      <td>0.93</td>\n",
       "    </tr>\n",
       "    <tr>\n",
       "      <th>3</th>\n",
       "      <td>Albany</td>\n",
       "      <td>1.08</td>\n",
       "    </tr>\n",
       "    <tr>\n",
       "      <th>4</th>\n",
       "      <td>Albany</td>\n",
       "      <td>1.28</td>\n",
       "    </tr>\n",
       "  </tbody>\n",
       "</table>\n",
       "</div>"
      ],
      "text/plain": [
       "   region  AveragePrice\n",
       "0  Albany          1.33\n",
       "1  Albany          1.35\n",
       "2  Albany          0.93\n",
       "3  Albany          1.08\n",
       "4  Albany          1.28"
      ]
     },
     "execution_count": 26,
     "metadata": {},
     "output_type": "execute_result"
    }
   ],
   "source": [
    "# AveragePrice - region\n",
    "df_sub = df[['region','AveragePrice']]\n",
    "df_sub.columns = ['region','AveragePrice']\n",
    "df_sub.head()"
   ]
  },
  {
   "cell_type": "code",
   "execution_count": 27,
   "id": "845fe719",
   "metadata": {},
   "outputs": [
    {
     "data": {
      "text/html": [
       "<div>\n",
       "<style scoped>\n",
       "    .dataframe tbody tr th:only-of-type {\n",
       "        vertical-align: middle;\n",
       "    }\n",
       "\n",
       "    .dataframe tbody tr th {\n",
       "        vertical-align: top;\n",
       "    }\n",
       "\n",
       "    .dataframe thead th {\n",
       "        text-align: right;\n",
       "    }\n",
       "</style>\n",
       "<table border=\"1\" class=\"dataframe\">\n",
       "  <thead>\n",
       "    <tr style=\"text-align: right;\">\n",
       "      <th></th>\n",
       "      <th>sum_sq</th>\n",
       "      <th>df</th>\n",
       "      <th>F</th>\n",
       "      <th>PR(&gt;F)</th>\n",
       "    </tr>\n",
       "  </thead>\n",
       "  <tbody>\n",
       "    <tr>\n",
       "      <th>C(region)</th>\n",
       "      <td>497.469772</td>\n",
       "      <td>53.0</td>\n",
       "      <td>69.383811</td>\n",
       "      <td>0.0</td>\n",
       "    </tr>\n",
       "    <tr>\n",
       "      <th>Residual</th>\n",
       "      <td>2461.414383</td>\n",
       "      <td>18195.0</td>\n",
       "      <td>NaN</td>\n",
       "      <td>NaN</td>\n",
       "    </tr>\n",
       "  </tbody>\n",
       "</table>\n",
       "</div>"
      ],
      "text/plain": [
       "                sum_sq       df          F  PR(>F)\n",
       "C(region)   497.469772     53.0  69.383811     0.0\n",
       "Residual   2461.414383  18195.0        NaN     NaN"
      ]
     },
     "execution_count": 27,
     "metadata": {},
     "output_type": "execute_result"
    }
   ],
   "source": [
    "model = ols('AveragePrice ~ C(region)', data=df_sub).fit()\n",
    "anova_table = sm.stats.anova_lm(model, typ=2)\n",
    "anova_table"
   ]
  },
  {
   "cell_type": "markdown",
   "id": "91d9327f",
   "metadata": {},
   "source": [
    "=> region có ảnh hưởng tới AveragePrice"
   ]
  },
  {
   "cell_type": "code",
   "execution_count": 28,
   "id": "11aec60d",
   "metadata": {},
   "outputs": [
    {
     "data": {
      "image/png": "[encoded data removed]",
      "text/plain": [
       "<Figure size 1440x720 with 1 Axes>"
      ]
     },
     "metadata": {},
     "output_type": "display_data"
    }
   ],
   "source": [
    "plt.figure(figsize=(20,10))\n",
    "sns.boxplot(x='region',y='AveragePrice', data=df_sub)\n",
    "plt.xticks(rotation=90)\n",
    "plt.show()"
   ]
  },
  {
   "cell_type": "code",
   "execution_count": 29,
   "id": "52f15e4c",
   "metadata": {},
   "outputs": [
    {
     "data": {
      "text/html": [
       "<div>\n",
       "<style scoped>\n",
       "    .dataframe tbody tr th:only-of-type {\n",
       "        vertical-align: middle;\n",
       "    }\n",
       "\n",
       "    .dataframe tbody tr th {\n",
       "        vertical-align: top;\n",
       "    }\n",
       "\n",
       "    .dataframe thead th {\n",
       "        text-align: right;\n",
       "    }\n",
       "</style>\n",
       "<table border=\"1\" class=\"dataframe\">\n",
       "  <thead>\n",
       "    <tr style=\"text-align: right;\">\n",
       "      <th></th>\n",
       "      <th>month</th>\n",
       "      <th>AveragePrice</th>\n",
       "    </tr>\n",
       "  </thead>\n",
       "  <tbody>\n",
       "    <tr>\n",
       "      <th>0</th>\n",
       "      <td>12</td>\n",
       "      <td>1.33</td>\n",
       "    </tr>\n",
       "    <tr>\n",
       "      <th>1</th>\n",
       "      <td>12</td>\n",
       "      <td>1.35</td>\n",
       "    </tr>\n",
       "    <tr>\n",
       "      <th>2</th>\n",
       "      <td>12</td>\n",
       "      <td>0.93</td>\n",
       "    </tr>\n",
       "    <tr>\n",
       "      <th>3</th>\n",
       "      <td>12</td>\n",
       "      <td>1.08</td>\n",
       "    </tr>\n",
       "    <tr>\n",
       "      <th>4</th>\n",
       "      <td>11</td>\n",
       "      <td>1.28</td>\n",
       "    </tr>\n",
       "  </tbody>\n",
       "</table>\n",
       "</div>"
      ],
      "text/plain": [
       "   month  AveragePrice\n",
       "0     12          1.33\n",
       "1     12          1.35\n",
       "2     12          0.93\n",
       "3     12          1.08\n",
       "4     11          1.28"
      ]
     },
     "execution_count": 29,
     "metadata": {},
     "output_type": "execute_result"
    }
   ],
   "source": [
    "# AveragePrice - month\n",
    "df_sub = df[['month','AveragePrice']]\n",
    "df_sub.columns = ['month','AveragePrice']\n",
    "df_sub.head()"
   ]
  },
  {
   "cell_type": "code",
   "execution_count": 30,
   "id": "823a84be",
   "metadata": {},
   "outputs": [
    {
     "data": {
      "text/html": [
       "<div>\n",
       "<style scoped>\n",
       "    .dataframe tbody tr th:only-of-type {\n",
       "        vertical-align: middle;\n",
       "    }\n",
       "\n",
       "    .dataframe tbody tr th {\n",
       "        vertical-align: top;\n",
       "    }\n",
       "\n",
       "    .dataframe thead th {\n",
       "        text-align: right;\n",
       "    }\n",
       "</style>\n",
       "<table border=\"1\" class=\"dataframe\">\n",
       "  <thead>\n",
       "    <tr style=\"text-align: right;\">\n",
       "      <th></th>\n",
       "      <th>sum_sq</th>\n",
       "      <th>df</th>\n",
       "      <th>F</th>\n",
       "      <th>PR(&gt;F)</th>\n",
       "    </tr>\n",
       "  </thead>\n",
       "  <tbody>\n",
       "    <tr>\n",
       "      <th>C(month)</th>\n",
       "      <td>177.810716</td>\n",
       "      <td>11.0</td>\n",
       "      <td>106.000079</td>\n",
       "      <td>1.515131e-235</td>\n",
       "    </tr>\n",
       "    <tr>\n",
       "      <th>Residual</th>\n",
       "      <td>2781.073439</td>\n",
       "      <td>18237.0</td>\n",
       "      <td>NaN</td>\n",
       "      <td>NaN</td>\n",
       "    </tr>\n",
       "  </tbody>\n",
       "</table>\n",
       "</div>"
      ],
      "text/plain": [
       "               sum_sq       df           F         PR(>F)\n",
       "C(month)   177.810716     11.0  106.000079  1.515131e-235\n",
       "Residual  2781.073439  18237.0         NaN            NaN"
      ]
     },
     "execution_count": 30,
     "metadata": {},
     "output_type": "execute_result"
    }
   ],
   "source": [
    "model = ols('AveragePrice ~ C(month)', data=df_sub).fit()\n",
    "anova_table = sm.stats.anova_lm(model, typ=2)\n",
    "anova_table"
   ]
  },
  {
   "cell_type": "code",
   "execution_count": 31,
   "id": "e9eb2941",
   "metadata": {},
   "outputs": [
    {
     "data": {
      "image/png": "[encoded data removed]",
      "text/plain": [
       "<Figure size 1440x720 with 1 Axes>"
      ]
     },
     "metadata": {},
     "output_type": "display_data"
    }
   ],
   "source": [
    "plt.figure(figsize=(20,10))\n",
    "sns.boxplot(x='month',y='AveragePrice', data=df_sub)\n",
    "plt.xticks(rotation=90)\n",
    "plt.show()"
   ]
  },
  {
   "cell_type": "code",
   "execution_count": 32,
   "id": "2ab32d7b",
   "metadata": {},
   "outputs": [
    {
     "data": {
      "text/html": [
       "<div>\n",
       "<style scoped>\n",
       "    .dataframe tbody tr th:only-of-type {\n",
       "        vertical-align: middle;\n",
       "    }\n",
       "\n",
       "    .dataframe tbody tr th {\n",
       "        vertical-align: top;\n",
       "    }\n",
       "\n",
       "    .dataframe thead th {\n",
       "        text-align: right;\n",
       "    }\n",
       "</style>\n",
       "<table border=\"1\" class=\"dataframe\">\n",
       "  <thead>\n",
       "    <tr style=\"text-align: right;\">\n",
       "      <th></th>\n",
       "      <th>Season</th>\n",
       "      <th>AveragePrice</th>\n",
       "    </tr>\n",
       "  </thead>\n",
       "  <tbody>\n",
       "    <tr>\n",
       "      <th>0</th>\n",
       "      <td>3</td>\n",
       "      <td>1.33</td>\n",
       "    </tr>\n",
       "    <tr>\n",
       "      <th>1</th>\n",
       "      <td>3</td>\n",
       "      <td>1.35</td>\n",
       "    </tr>\n",
       "    <tr>\n",
       "      <th>2</th>\n",
       "      <td>3</td>\n",
       "      <td>0.93</td>\n",
       "    </tr>\n",
       "    <tr>\n",
       "      <th>3</th>\n",
       "      <td>3</td>\n",
       "      <td>1.08</td>\n",
       "    </tr>\n",
       "    <tr>\n",
       "      <th>4</th>\n",
       "      <td>2</td>\n",
       "      <td>1.28</td>\n",
       "    </tr>\n",
       "  </tbody>\n",
       "</table>\n",
       "</div>"
      ],
      "text/plain": [
       "   Season  AveragePrice\n",
       "0       3          1.33\n",
       "1       3          1.35\n",
       "2       3          0.93\n",
       "3       3          1.08\n",
       "4       2          1.28"
      ]
     },
     "execution_count": 32,
     "metadata": {},
     "output_type": "execute_result"
    }
   ],
   "source": [
    "# AveragePrice - Season\n",
    "df_sub = df[['Season','AveragePrice']]\n",
    "df_sub.columns = ['Season','AveragePrice']\n",
    "df_sub.head()"
   ]
  },
  {
   "cell_type": "code",
   "execution_count": 33,
   "id": "1d969ec1",
   "metadata": {},
   "outputs": [
    {
     "data": {
      "text/html": [
       "<div>\n",
       "<style scoped>\n",
       "    .dataframe tbody tr th:only-of-type {\n",
       "        vertical-align: middle;\n",
       "    }\n",
       "\n",
       "    .dataframe tbody tr th {\n",
       "        vertical-align: top;\n",
       "    }\n",
       "\n",
       "    .dataframe thead th {\n",
       "        text-align: right;\n",
       "    }\n",
       "</style>\n",
       "<table border=\"1\" class=\"dataframe\">\n",
       "  <thead>\n",
       "    <tr style=\"text-align: right;\">\n",
       "      <th></th>\n",
       "      <th>sum_sq</th>\n",
       "      <th>df</th>\n",
       "      <th>F</th>\n",
       "      <th>PR(&gt;F)</th>\n",
       "    </tr>\n",
       "  </thead>\n",
       "  <tbody>\n",
       "    <tr>\n",
       "      <th>C(Season)</th>\n",
       "      <td>152.809448</td>\n",
       "      <td>3.0</td>\n",
       "      <td>331.187236</td>\n",
       "      <td>2.041083e-209</td>\n",
       "    </tr>\n",
       "    <tr>\n",
       "      <th>Residual</th>\n",
       "      <td>2806.074707</td>\n",
       "      <td>18245.0</td>\n",
       "      <td>NaN</td>\n",
       "      <td>NaN</td>\n",
       "    </tr>\n",
       "  </tbody>\n",
       "</table>\n",
       "</div>"
      ],
      "text/plain": [
       "                sum_sq       df           F         PR(>F)\n",
       "C(Season)   152.809448      3.0  331.187236  2.041083e-209\n",
       "Residual   2806.074707  18245.0         NaN            NaN"
      ]
     },
     "execution_count": 33,
     "metadata": {},
     "output_type": "execute_result"
    }
   ],
   "source": [
    "model = ols('AveragePrice ~ C(Season)', data=df_sub).fit()\n",
    "anova_table = sm.stats.anova_lm(model, typ=2)\n",
    "anova_table"
   ]
  },
  {
   "cell_type": "code",
   "execution_count": 34,
   "id": "9f139756",
   "metadata": {},
   "outputs": [
    {
     "data": {
      "image/png": "[encoded data removed]",
      "text/plain": [
       "<Figure size 1440x720 with 1 Axes>"
      ]
     },
     "metadata": {},
     "output_type": "display_data"
    }
   ],
   "source": [
    "plt.figure(figsize=(20,10))\n",
    "sns.boxplot(x='Season',y='AveragePrice', data=df_sub)\n",
    "plt.xticks(rotation=90)\n",
    "plt.show()"
   ]
  },
  {
   "cell_type": "code",
   "execution_count": 35,
   "id": "6a4bbc25",
   "metadata": {},
   "outputs": [
    {
     "data": {
      "text/html": [
       "<div>\n",
       "<style scoped>\n",
       "    .dataframe tbody tr th:only-of-type {\n",
       "        vertical-align: middle;\n",
       "    }\n",
       "\n",
       "    .dataframe tbody tr th {\n",
       "        vertical-align: top;\n",
       "    }\n",
       "\n",
       "    .dataframe thead th {\n",
       "        text-align: right;\n",
       "    }\n",
       "</style>\n",
       "<table border=\"1\" class=\"dataframe\">\n",
       "  <thead>\n",
       "    <tr style=\"text-align: right;\">\n",
       "      <th>type</th>\n",
       "      <th>conventional</th>\n",
       "      <th>organic</th>\n",
       "    </tr>\n",
       "    <tr>\n",
       "      <th>region</th>\n",
       "      <th></th>\n",
       "      <th></th>\n",
       "    </tr>\n",
       "  </thead>\n",
       "  <tbody>\n",
       "    <tr>\n",
       "      <th>Albany</th>\n",
       "      <td>169</td>\n",
       "      <td>169</td>\n",
       "    </tr>\n",
       "    <tr>\n",
       "      <th>Atlanta</th>\n",
       "      <td>169</td>\n",
       "      <td>169</td>\n",
       "    </tr>\n",
       "    <tr>\n",
       "      <th>BaltimoreWashington</th>\n",
       "      <td>169</td>\n",
       "      <td>169</td>\n",
       "    </tr>\n",
       "    <tr>\n",
       "      <th>Boise</th>\n",
       "      <td>169</td>\n",
       "      <td>169</td>\n",
       "    </tr>\n",
       "    <tr>\n",
       "      <th>Boston</th>\n",
       "      <td>169</td>\n",
       "      <td>169</td>\n",
       "    </tr>\n",
       "    <tr>\n",
       "      <th>BuffaloRochester</th>\n",
       "      <td>169</td>\n",
       "      <td>169</td>\n",
       "    </tr>\n",
       "    <tr>\n",
       "      <th>California</th>\n",
       "      <td>169</td>\n",
       "      <td>169</td>\n",
       "    </tr>\n",
       "    <tr>\n",
       "      <th>Charlotte</th>\n",
       "      <td>169</td>\n",
       "      <td>169</td>\n",
       "    </tr>\n",
       "    <tr>\n",
       "      <th>Chicago</th>\n",
       "      <td>169</td>\n",
       "      <td>169</td>\n",
       "    </tr>\n",
       "    <tr>\n",
       "      <th>CincinnatiDayton</th>\n",
       "      <td>169</td>\n",
       "      <td>169</td>\n",
       "    </tr>\n",
       "    <tr>\n",
       "      <th>Columbus</th>\n",
       "      <td>169</td>\n",
       "      <td>169</td>\n",
       "    </tr>\n",
       "    <tr>\n",
       "      <th>DallasFtWorth</th>\n",
       "      <td>169</td>\n",
       "      <td>169</td>\n",
       "    </tr>\n",
       "    <tr>\n",
       "      <th>Denver</th>\n",
       "      <td>169</td>\n",
       "      <td>169</td>\n",
       "    </tr>\n",
       "    <tr>\n",
       "      <th>Detroit</th>\n",
       "      <td>169</td>\n",
       "      <td>169</td>\n",
       "    </tr>\n",
       "    <tr>\n",
       "      <th>GrandRapids</th>\n",
       "      <td>169</td>\n",
       "      <td>169</td>\n",
       "    </tr>\n",
       "    <tr>\n",
       "      <th>GreatLakes</th>\n",
       "      <td>169</td>\n",
       "      <td>169</td>\n",
       "    </tr>\n",
       "    <tr>\n",
       "      <th>HarrisburgScranton</th>\n",
       "      <td>169</td>\n",
       "      <td>169</td>\n",
       "    </tr>\n",
       "    <tr>\n",
       "      <th>HartfordSpringfield</th>\n",
       "      <td>169</td>\n",
       "      <td>169</td>\n",
       "    </tr>\n",
       "    <tr>\n",
       "      <th>Houston</th>\n",
       "      <td>169</td>\n",
       "      <td>169</td>\n",
       "    </tr>\n",
       "    <tr>\n",
       "      <th>Indianapolis</th>\n",
       "      <td>169</td>\n",
       "      <td>169</td>\n",
       "    </tr>\n",
       "    <tr>\n",
       "      <th>Jacksonville</th>\n",
       "      <td>169</td>\n",
       "      <td>169</td>\n",
       "    </tr>\n",
       "    <tr>\n",
       "      <th>LasVegas</th>\n",
       "      <td>169</td>\n",
       "      <td>169</td>\n",
       "    </tr>\n",
       "    <tr>\n",
       "      <th>LosAngeles</th>\n",
       "      <td>169</td>\n",
       "      <td>169</td>\n",
       "    </tr>\n",
       "    <tr>\n",
       "      <th>Louisville</th>\n",
       "      <td>169</td>\n",
       "      <td>169</td>\n",
       "    </tr>\n",
       "    <tr>\n",
       "      <th>MiamiFtLauderdale</th>\n",
       "      <td>169</td>\n",
       "      <td>169</td>\n",
       "    </tr>\n",
       "    <tr>\n",
       "      <th>Midsouth</th>\n",
       "      <td>169</td>\n",
       "      <td>169</td>\n",
       "    </tr>\n",
       "    <tr>\n",
       "      <th>Nashville</th>\n",
       "      <td>169</td>\n",
       "      <td>169</td>\n",
       "    </tr>\n",
       "    <tr>\n",
       "      <th>NewOrleansMobile</th>\n",
       "      <td>169</td>\n",
       "      <td>169</td>\n",
       "    </tr>\n",
       "    <tr>\n",
       "      <th>NewYork</th>\n",
       "      <td>169</td>\n",
       "      <td>169</td>\n",
       "    </tr>\n",
       "    <tr>\n",
       "      <th>Northeast</th>\n",
       "      <td>169</td>\n",
       "      <td>169</td>\n",
       "    </tr>\n",
       "    <tr>\n",
       "      <th>NorthernNewEngland</th>\n",
       "      <td>169</td>\n",
       "      <td>169</td>\n",
       "    </tr>\n",
       "    <tr>\n",
       "      <th>Orlando</th>\n",
       "      <td>169</td>\n",
       "      <td>169</td>\n",
       "    </tr>\n",
       "    <tr>\n",
       "      <th>Philadelphia</th>\n",
       "      <td>169</td>\n",
       "      <td>169</td>\n",
       "    </tr>\n",
       "    <tr>\n",
       "      <th>PhoenixTucson</th>\n",
       "      <td>169</td>\n",
       "      <td>169</td>\n",
       "    </tr>\n",
       "    <tr>\n",
       "      <th>Pittsburgh</th>\n",
       "      <td>169</td>\n",
       "      <td>169</td>\n",
       "    </tr>\n",
       "    <tr>\n",
       "      <th>Plains</th>\n",
       "      <td>169</td>\n",
       "      <td>169</td>\n",
       "    </tr>\n",
       "    <tr>\n",
       "      <th>Portland</th>\n",
       "      <td>169</td>\n",
       "      <td>169</td>\n",
       "    </tr>\n",
       "    <tr>\n",
       "      <th>RaleighGreensboro</th>\n",
       "      <td>169</td>\n",
       "      <td>169</td>\n",
       "    </tr>\n",
       "    <tr>\n",
       "      <th>RichmondNorfolk</th>\n",
       "      <td>169</td>\n",
       "      <td>169</td>\n",
       "    </tr>\n",
       "    <tr>\n",
       "      <th>Roanoke</th>\n",
       "      <td>169</td>\n",
       "      <td>169</td>\n",
       "    </tr>\n",
       "    <tr>\n",
       "      <th>Sacramento</th>\n",
       "      <td>169</td>\n",
       "      <td>169</td>\n",
       "    </tr>\n",
       "    <tr>\n",
       "      <th>SanDiego</th>\n",
       "      <td>169</td>\n",
       "      <td>169</td>\n",
       "    </tr>\n",
       "    <tr>\n",
       "      <th>SanFrancisco</th>\n",
       "      <td>169</td>\n",
       "      <td>169</td>\n",
       "    </tr>\n",
       "    <tr>\n",
       "      <th>Seattle</th>\n",
       "      <td>169</td>\n",
       "      <td>169</td>\n",
       "    </tr>\n",
       "    <tr>\n",
       "      <th>SouthCarolina</th>\n",
       "      <td>169</td>\n",
       "      <td>169</td>\n",
       "    </tr>\n",
       "    <tr>\n",
       "      <th>SouthCentral</th>\n",
       "      <td>169</td>\n",
       "      <td>169</td>\n",
       "    </tr>\n",
       "    <tr>\n",
       "      <th>Southeast</th>\n",
       "      <td>169</td>\n",
       "      <td>169</td>\n",
       "    </tr>\n",
       "    <tr>\n",
       "      <th>Spokane</th>\n",
       "      <td>169</td>\n",
       "      <td>169</td>\n",
       "    </tr>\n",
       "    <tr>\n",
       "      <th>StLouis</th>\n",
       "      <td>169</td>\n",
       "      <td>169</td>\n",
       "    </tr>\n",
       "    <tr>\n",
       "      <th>Syracuse</th>\n",
       "      <td>169</td>\n",
       "      <td>169</td>\n",
       "    </tr>\n",
       "    <tr>\n",
       "      <th>Tampa</th>\n",
       "      <td>169</td>\n",
       "      <td>169</td>\n",
       "    </tr>\n",
       "    <tr>\n",
       "      <th>TotalUS</th>\n",
       "      <td>169</td>\n",
       "      <td>169</td>\n",
       "    </tr>\n",
       "    <tr>\n",
       "      <th>West</th>\n",
       "      <td>169</td>\n",
       "      <td>169</td>\n",
       "    </tr>\n",
       "    <tr>\n",
       "      <th>WestTexNewMexico</th>\n",
       "      <td>169</td>\n",
       "      <td>166</td>\n",
       "    </tr>\n",
       "  </tbody>\n",
       "</table>\n",
       "</div>"
      ],
      "text/plain": [
       "type                 conventional  organic\n",
       "region                                    \n",
       "Albany                        169      169\n",
       "Atlanta                       169      169\n",
       "BaltimoreWashington           169      169\n",
       "Boise                         169      169\n",
       "Boston                        169      169\n",
       "BuffaloRochester              169      169\n",
       "California                    169      169\n",
       "Charlotte                     169      169\n",
       "Chicago                       169      169\n",
       "CincinnatiDayton              169      169\n",
       "Columbus                      169      169\n",
       "DallasFtWorth                 169      169\n",
       "Denver                        169      169\n",
       "Detroit                       169      169\n",
       "GrandRapids                   169      169\n",
       "GreatLakes                    169      169\n",
       "HarrisburgScranton            169      169\n",
       "HartfordSpringfield           169      169\n",
       "Houston                       169      169\n",
       "Indianapolis                  169      169\n",
       "Jacksonville                  169      169\n",
       "LasVegas                      169      169\n",
       "LosAngeles                    169      169\n",
       "Louisville                    169      169\n",
       "MiamiFtLauderdale             169      169\n",
       "Midsouth                      169      169\n",
       "Nashville                     169      169\n",
       "NewOrleansMobile              169      169\n",
       "NewYork                       169      169\n",
       "Northeast                     169      169\n",
       "NorthernNewEngland            169      169\n",
       "Orlando                       169      169\n",
       "Philadelphia                  169      169\n",
       "PhoenixTucson                 169      169\n",
       "Pittsburgh                    169      169\n",
       "Plains                        169      169\n",
       "Portland                      169      169\n",
       "RaleighGreensboro             169      169\n",
       "RichmondNorfolk               169      169\n",
       "Roanoke                       169      169\n",
       "Sacramento                    169      169\n",
       "SanDiego                      169      169\n",
       "SanFrancisco                  169      169\n",
       "Seattle                       169      169\n",
       "SouthCarolina                 169      169\n",
       "SouthCentral                  169      169\n",
       "Southeast                     169      169\n",
       "Spokane                       169      169\n",
       "StLouis                       169      169\n",
       "Syracuse                      169      169\n",
       "Tampa                         169      169\n",
       "TotalUS                       169      169\n",
       "West                          169      169\n",
       "WestTexNewMexico              169      166"
      ]
     },
     "execution_count": 35,
     "metadata": {},
     "output_type": "execute_result"
    }
   ],
   "source": [
    "# type - region\n",
    "table_fb = pd.crosstab(df['type'], df['region'])\n",
    "table_fb.T"
   ]
  },
  {
   "cell_type": "code",
   "execution_count": 36,
   "id": "e47737cc",
   "metadata": {},
   "outputs": [
    {
     "data": {
      "image/png": "[encoded data removed]",
      "text/plain": [
       "<Figure size 432x288 with 1 Axes>"
      ]
     },
     "metadata": {},
     "output_type": "display_data"
    }
   ],
   "source": [
    "table_fb.plot(kind='bar', stacked=True)\n",
    "plt.show()"
   ]
  },
  {
   "cell_type": "code",
   "execution_count": 37,
   "id": "602f078c",
   "metadata": {},
   "outputs": [],
   "source": [
    "# Create new dataframe with best features\n",
    "df_new = df[['Total Volume', 'Total Bags', 'type', 'year', 'region', 'day', 'month','Season', 'AveragePrice']]\n",
    "df_new = df_new.reset_index(drop=True)"
   ]
  },
  {
   "cell_type": "code",
   "execution_count": 38,
   "id": "26a96703",
   "metadata": {},
   "outputs": [],
   "source": [
    "X_col = ['Total Volume', 'Total Bags', 'type', 'year', 'region', 'day', 'month','Season']\n",
    "X = df_new[X_col]\n",
    "y = df_new['AveragePrice']"
   ]
  },
  {
   "cell_type": "markdown",
   "id": "80791a20",
   "metadata": {},
   "source": [
    "#### Outlier handling"
   ]
  },
  {
   "cell_type": "code",
   "execution_count": 39,
   "id": "cb052675",
   "metadata": {},
   "outputs": [],
   "source": [
    "# # replace outlier to median\n",
    "# columns = ['Total Volume','Total Bags']\n",
    "# def replace_outlier(df, col):\n",
    "#     Q1 = np.quantile(df[col].dropna(),0.25)\n",
    "#     Q3 = np.quantile(df[col].dropna(),0.75)\n",
    "#     iqr = Q3 - Q1\n",
    "#     df.loc[(df[col] > (Q3 + 1.5*iqr)) | (df[col] < (Q1 - 1.5*iqr)), col] = df[col].median()\n",
    "\n",
    "# for col in columns:\n",
    "#     replace_outlier(X, col)"
   ]
  },
  {
   "cell_type": "markdown",
   "id": "9502ad72",
   "metadata": {},
   "source": [
    "### Feature Engineering"
   ]
  },
  {
   "cell_type": "code",
   "execution_count": 40,
   "id": "98763e0a",
   "metadata": {},
   "outputs": [
    {
     "data": {
      "text/plain": [
       "Index(['Total Volume', 'Total Bags', 'type', 'year', 'region', 'day', 'month',\n",
       "       'Season'],\n",
       "      dtype='object')"
      ]
     },
     "execution_count": 40,
     "metadata": {},
     "output_type": "execute_result"
    }
   ],
   "source": [
    "X.columns"
   ]
  },
  {
   "cell_type": "code",
   "execution_count": 41,
   "id": "a648331e",
   "metadata": {},
   "outputs": [
    {
     "name": "stdout",
     "output_type": "stream",
     "text": [
      "<class 'pandas.core.frame.DataFrame'>\n",
      "RangeIndex: 18249 entries, 0 to 18248\n",
      "Data columns (total 8 columns):\n",
      " #   Column        Non-Null Count  Dtype   \n",
      "---  ------        --------------  -----   \n",
      " 0   Total Volume  18249 non-null  float64 \n",
      " 1   Total Bags    18249 non-null  float64 \n",
      " 2   type          18249 non-null  category\n",
      " 3   year          18249 non-null  int64   \n",
      " 4   region        18249 non-null  category\n",
      " 5   day           18249 non-null  int64   \n",
      " 6   month         18249 non-null  category\n",
      " 7   Season        18249 non-null  category\n",
      "dtypes: category(4), float64(2), int64(2)\n",
      "memory usage: 644.9 KB\n"
     ]
    }
   ],
   "source": [
    "# categorical data type conversion\n",
    "lst_categories = ['type', 'region', 'month', 'Season']\n",
    "for col in lst_categories:\n",
    "    X[col] = pd.Categorical(X[col])\n",
    "\n",
    "X.info()"
   ]
  },
  {
   "cell_type": "code",
   "execution_count": 42,
   "id": "a11ade47",
   "metadata": {},
   "outputs": [],
   "source": [
    "# Label Encoder for 'type'\n",
    "encoder = LabelEncoder()\n",
    "X['type'] = encoder.fit_transform(X['type'])"
   ]
  },
  {
   "cell_type": "code",
   "execution_count": 43,
   "id": "6d36b3e4",
   "metadata": {},
   "outputs": [
    {
     "data": {
      "text/plain": [
       "(18249, 61)"
      ]
     },
     "execution_count": 43,
     "metadata": {},
     "output_type": "execute_result"
    }
   ],
   "source": [
    "def dummies(x,df):\n",
    "    temp = pd.get_dummies(df[x])\n",
    "    df = pd.concat([df, temp], axis = 1)\n",
    "    df.drop([x], axis = 1, inplace = True)\n",
    "    return df\n",
    "\n",
    "# convert categorical attribute to numeric type: get_dummies()\n",
    "X = dummies('region',X)\n",
    "\n",
    "X.shape"
   ]
  },
  {
   "cell_type": "markdown",
   "id": "80f815a2",
   "metadata": {},
   "source": [
    "### Scaler"
   ]
  },
  {
   "cell_type": "code",
   "execution_count": 44,
   "id": "c779dd4b",
   "metadata": {},
   "outputs": [
    {
     "data": {
      "text/html": [
       "<div>\n",
       "<style scoped>\n",
       "    .dataframe tbody tr th:only-of-type {\n",
       "        vertical-align: middle;\n",
       "    }\n",
       "\n",
       "    .dataframe tbody tr th {\n",
       "        vertical-align: top;\n",
       "    }\n",
       "\n",
       "    .dataframe thead th {\n",
       "        text-align: right;\n",
       "    }\n",
       "</style>\n",
       "<table border=\"1\" class=\"dataframe\">\n",
       "  <thead>\n",
       "    <tr style=\"text-align: right;\">\n",
       "      <th></th>\n",
       "      <th>Total Volume</th>\n",
       "      <th>Total Bags</th>\n",
       "      <th>type</th>\n",
       "      <th>year</th>\n",
       "      <th>day</th>\n",
       "      <th>month</th>\n",
       "      <th>Season</th>\n",
       "      <th>Albany</th>\n",
       "      <th>Atlanta</th>\n",
       "      <th>BaltimoreWashington</th>\n",
       "      <th>...</th>\n",
       "      <th>SouthCarolina</th>\n",
       "      <th>SouthCentral</th>\n",
       "      <th>Southeast</th>\n",
       "      <th>Spokane</th>\n",
       "      <th>StLouis</th>\n",
       "      <th>Syracuse</th>\n",
       "      <th>Tampa</th>\n",
       "      <th>TotalUS</th>\n",
       "      <th>West</th>\n",
       "      <th>WestTexNewMexico</th>\n",
       "    </tr>\n",
       "  </thead>\n",
       "  <tbody>\n",
       "    <tr>\n",
       "      <th>0</th>\n",
       "      <td>-0.227716</td>\n",
       "      <td>-0.234170</td>\n",
       "      <td>-0.999836</td>\n",
       "      <td>-1.221282</td>\n",
       "      <td>1.291857</td>\n",
       "      <td>1.647632</td>\n",
       "      <td>1.279385</td>\n",
       "      <td>7.279500</td>\n",
       "      <td>-0.137372</td>\n",
       "      <td>-0.137372</td>\n",
       "      <td>...</td>\n",
       "      <td>-0.137372</td>\n",
       "      <td>-0.137372</td>\n",
       "      <td>-0.137372</td>\n",
       "      <td>-0.137372</td>\n",
       "      <td>-0.137372</td>\n",
       "      <td>-0.137372</td>\n",
       "      <td>-0.137372</td>\n",
       "      <td>-0.137372</td>\n",
       "      <td>-0.137372</td>\n",
       "      <td>-0.136750</td>\n",
       "    </tr>\n",
       "    <tr>\n",
       "      <th>1</th>\n",
       "      <td>-0.230427</td>\n",
       "      <td>-0.233350</td>\n",
       "      <td>-0.999836</td>\n",
       "      <td>-1.221282</td>\n",
       "      <td>0.494231</td>\n",
       "      <td>1.647632</td>\n",
       "      <td>1.279385</td>\n",
       "      <td>7.279500</td>\n",
       "      <td>-0.137372</td>\n",
       "      <td>-0.137372</td>\n",
       "      <td>...</td>\n",
       "      <td>-0.137372</td>\n",
       "      <td>-0.137372</td>\n",
       "      <td>-0.137372</td>\n",
       "      <td>-0.137372</td>\n",
       "      <td>-0.137372</td>\n",
       "      <td>-0.137372</td>\n",
       "      <td>-0.137372</td>\n",
       "      <td>-0.137372</td>\n",
       "      <td>-0.137372</td>\n",
       "      <td>-0.136750</td>\n",
       "    </tr>\n",
       "    <tr>\n",
       "      <th>2</th>\n",
       "      <td>-0.212085</td>\n",
       "      <td>-0.234730</td>\n",
       "      <td>-0.999836</td>\n",
       "      <td>-1.221282</td>\n",
       "      <td>-0.303396</td>\n",
       "      <td>1.647632</td>\n",
       "      <td>1.279385</td>\n",
       "      <td>7.279500</td>\n",
       "      <td>-0.137372</td>\n",
       "      <td>-0.137372</td>\n",
       "      <td>...</td>\n",
       "      <td>-0.137372</td>\n",
       "      <td>-0.137372</td>\n",
       "      <td>-0.137372</td>\n",
       "      <td>-0.137372</td>\n",
       "      <td>-0.137372</td>\n",
       "      <td>-0.137372</td>\n",
       "      <td>-0.137372</td>\n",
       "      <td>-0.137372</td>\n",
       "      <td>-0.137372</td>\n",
       "      <td>-0.136750</td>\n",
       "    </tr>\n",
       "    <tr>\n",
       "      <th>3</th>\n",
       "      <td>-0.223444</td>\n",
       "      <td>-0.237096</td>\n",
       "      <td>-0.999836</td>\n",
       "      <td>-1.221282</td>\n",
       "      <td>-1.101022</td>\n",
       "      <td>1.647632</td>\n",
       "      <td>1.279385</td>\n",
       "      <td>7.279500</td>\n",
       "      <td>-0.137372</td>\n",
       "      <td>-0.137372</td>\n",
       "      <td>...</td>\n",
       "      <td>-0.137372</td>\n",
       "      <td>-0.137372</td>\n",
       "      <td>-0.137372</td>\n",
       "      <td>-0.137372</td>\n",
       "      <td>-0.137372</td>\n",
       "      <td>-0.137372</td>\n",
       "      <td>-0.137372</td>\n",
       "      <td>-0.137372</td>\n",
       "      <td>-0.137372</td>\n",
       "      <td>-0.136750</td>\n",
       "    </tr>\n",
       "    <tr>\n",
       "      <th>4</th>\n",
       "      <td>-0.231538</td>\n",
       "      <td>-0.236718</td>\n",
       "      <td>-0.999836</td>\n",
       "      <td>-1.221282</td>\n",
       "      <td>1.519750</td>\n",
       "      <td>1.364669</td>\n",
       "      <td>0.411061</td>\n",
       "      <td>7.279500</td>\n",
       "      <td>-0.137372</td>\n",
       "      <td>-0.137372</td>\n",
       "      <td>...</td>\n",
       "      <td>-0.137372</td>\n",
       "      <td>-0.137372</td>\n",
       "      <td>-0.137372</td>\n",
       "      <td>-0.137372</td>\n",
       "      <td>-0.137372</td>\n",
       "      <td>-0.137372</td>\n",
       "      <td>-0.137372</td>\n",
       "      <td>-0.137372</td>\n",
       "      <td>-0.137372</td>\n",
       "      <td>-0.136750</td>\n",
       "    </tr>\n",
       "    <tr>\n",
       "      <th>...</th>\n",
       "      <td>...</td>\n",
       "      <td>...</td>\n",
       "      <td>...</td>\n",
       "      <td>...</td>\n",
       "      <td>...</td>\n",
       "      <td>...</td>\n",
       "      <td>...</td>\n",
       "      <td>...</td>\n",
       "      <td>...</td>\n",
       "      <td>...</td>\n",
       "      <td>...</td>\n",
       "      <td>...</td>\n",
       "      <td>...</td>\n",
       "      <td>...</td>\n",
       "      <td>...</td>\n",
       "      <td>...</td>\n",
       "      <td>...</td>\n",
       "      <td>...</td>\n",
       "      <td>...</td>\n",
       "      <td>...</td>\n",
       "      <td>...</td>\n",
       "    </tr>\n",
       "    <tr>\n",
       "      <th>18244</th>\n",
       "      <td>-0.241373</td>\n",
       "      <td>-0.229301</td>\n",
       "      <td>1.000164</td>\n",
       "      <td>1.970504</td>\n",
       "      <td>-1.328915</td>\n",
       "      <td>-1.181997</td>\n",
       "      <td>1.279385</td>\n",
       "      <td>-0.137372</td>\n",
       "      <td>-0.137372</td>\n",
       "      <td>-0.137372</td>\n",
       "      <td>...</td>\n",
       "      <td>-0.137372</td>\n",
       "      <td>-0.137372</td>\n",
       "      <td>-0.137372</td>\n",
       "      <td>-0.137372</td>\n",
       "      <td>-0.137372</td>\n",
       "      <td>-0.137372</td>\n",
       "      <td>-0.137372</td>\n",
       "      <td>-0.137372</td>\n",
       "      <td>-0.137372</td>\n",
       "      <td>7.312635</td>\n",
       "    </tr>\n",
       "    <tr>\n",
       "      <th>18245</th>\n",
       "      <td>-0.242296</td>\n",
       "      <td>-0.233594</td>\n",
       "      <td>1.000164</td>\n",
       "      <td>1.970504</td>\n",
       "      <td>1.405803</td>\n",
       "      <td>-1.464959</td>\n",
       "      <td>1.279385</td>\n",
       "      <td>-0.137372</td>\n",
       "      <td>-0.137372</td>\n",
       "      <td>-0.137372</td>\n",
       "      <td>...</td>\n",
       "      <td>-0.137372</td>\n",
       "      <td>-0.137372</td>\n",
       "      <td>-0.137372</td>\n",
       "      <td>-0.137372</td>\n",
       "      <td>-0.137372</td>\n",
       "      <td>-0.137372</td>\n",
       "      <td>-0.137372</td>\n",
       "      <td>-0.137372</td>\n",
       "      <td>-0.137372</td>\n",
       "      <td>7.312635</td>\n",
       "    </tr>\n",
       "    <tr>\n",
       "      <th>18246</th>\n",
       "      <td>-0.242331</td>\n",
       "      <td>-0.233463</td>\n",
       "      <td>1.000164</td>\n",
       "      <td>1.970504</td>\n",
       "      <td>0.608177</td>\n",
       "      <td>-1.464959</td>\n",
       "      <td>1.279385</td>\n",
       "      <td>-0.137372</td>\n",
       "      <td>-0.137372</td>\n",
       "      <td>-0.137372</td>\n",
       "      <td>...</td>\n",
       "      <td>-0.137372</td>\n",
       "      <td>-0.137372</td>\n",
       "      <td>-0.137372</td>\n",
       "      <td>-0.137372</td>\n",
       "      <td>-0.137372</td>\n",
       "      <td>-0.137372</td>\n",
       "      <td>-0.137372</td>\n",
       "      <td>-0.137372</td>\n",
       "      <td>-0.137372</td>\n",
       "      <td>7.312635</td>\n",
       "    </tr>\n",
       "    <tr>\n",
       "      <th>18247</th>\n",
       "      <td>-0.241625</td>\n",
       "      <td>-0.231866</td>\n",
       "      <td>1.000164</td>\n",
       "      <td>1.970504</td>\n",
       "      <td>-0.189449</td>\n",
       "      <td>-1.464959</td>\n",
       "      <td>1.279385</td>\n",
       "      <td>-0.137372</td>\n",
       "      <td>-0.137372</td>\n",
       "      <td>-0.137372</td>\n",
       "      <td>...</td>\n",
       "      <td>-0.137372</td>\n",
       "      <td>-0.137372</td>\n",
       "      <td>-0.137372</td>\n",
       "      <td>-0.137372</td>\n",
       "      <td>-0.137372</td>\n",
       "      <td>-0.137372</td>\n",
       "      <td>-0.137372</td>\n",
       "      <td>-0.137372</td>\n",
       "      <td>-0.137372</td>\n",
       "      <td>7.312635</td>\n",
       "    </tr>\n",
       "    <tr>\n",
       "      <th>18248</th>\n",
       "      <td>-0.241253</td>\n",
       "      <td>-0.230807</td>\n",
       "      <td>1.000164</td>\n",
       "      <td>1.970504</td>\n",
       "      <td>-0.987075</td>\n",
       "      <td>-1.464959</td>\n",
       "      <td>1.279385</td>\n",
       "      <td>-0.137372</td>\n",
       "      <td>-0.137372</td>\n",
       "      <td>-0.137372</td>\n",
       "      <td>...</td>\n",
       "      <td>-0.137372</td>\n",
       "      <td>-0.137372</td>\n",
       "      <td>-0.137372</td>\n",
       "      <td>-0.137372</td>\n",
       "      <td>-0.137372</td>\n",
       "      <td>-0.137372</td>\n",
       "      <td>-0.137372</td>\n",
       "      <td>-0.137372</td>\n",
       "      <td>-0.137372</td>\n",
       "      <td>7.312635</td>\n",
       "    </tr>\n",
       "  </tbody>\n",
       "</table>\n",
       "<p>18249 rows × 61 columns</p>\n",
       "</div>"
      ],
      "text/plain": [
       "       Total Volume  Total Bags      type      year       day     month  \\\n",
       "0         -0.227716   -0.234170 -0.999836 -1.221282  1.291857  1.647632   \n",
       "1         -0.230427   -0.233350 -0.999836 -1.221282  0.494231  1.647632   \n",
       "2         -0.212085   -0.234730 -0.999836 -1.221282 -0.303396  1.647632   \n",
       "3         -0.223444   -0.237096 -0.999836 -1.221282 -1.101022  1.647632   \n",
       "4         -0.231538   -0.236718 -0.999836 -1.221282  1.519750  1.364669   \n",
       "...             ...         ...       ...       ...       ...       ...   \n",
       "18244     -0.241373   -0.229301  1.000164  1.970504 -1.328915 -1.181997   \n",
       "18245     -0.242296   -0.233594  1.000164  1.970504  1.405803 -1.464959   \n",
       "18246     -0.242331   -0.233463  1.000164  1.970504  0.608177 -1.464959   \n",
       "18247     -0.241625   -0.231866  1.000164  1.970504 -0.189449 -1.464959   \n",
       "18248     -0.241253   -0.230807  1.000164  1.970504 -0.987075 -1.464959   \n",
       "\n",
       "         Season    Albany   Atlanta  BaltimoreWashington  ...  SouthCarolina  \\\n",
       "0      1.279385  7.279500 -0.137372            -0.137372  ...      -0.137372   \n",
       "1      1.279385  7.279500 -0.137372            -0.137372  ...      -0.137372   \n",
       "2      1.279385  7.279500 -0.137372            -0.137372  ...      -0.137372   \n",
       "3      1.279385  7.279500 -0.137372            -0.137372  ...      -0.137372   \n",
       "4      0.411061  7.279500 -0.137372            -0.137372  ...      -0.137372   \n",
       "...         ...       ...       ...                  ...  ...            ...   \n",
       "18244  1.279385 -0.137372 -0.137372            -0.137372  ...      -0.137372   \n",
       "18245  1.279385 -0.137372 -0.137372            -0.137372  ...      -0.137372   \n",
       "18246  1.279385 -0.137372 -0.137372            -0.137372  ...      -0.137372   \n",
       "18247  1.279385 -0.137372 -0.137372            -0.137372  ...      -0.137372   \n",
       "18248  1.279385 -0.137372 -0.137372            -0.137372  ...      -0.137372   \n",
       "\n",
       "       SouthCentral  Southeast   Spokane   StLouis  Syracuse     Tampa  \\\n",
       "0         -0.137372  -0.137372 -0.137372 -0.137372 -0.137372 -0.137372   \n",
       "1         -0.137372  -0.137372 -0.137372 -0.137372 -0.137372 -0.137372   \n",
       "2         -0.137372  -0.137372 -0.137372 -0.137372 -0.137372 -0.137372   \n",
       "3         -0.137372  -0.137372 -0.137372 -0.137372 -0.137372 -0.137372   \n",
       "4         -0.137372  -0.137372 -0.137372 -0.137372 -0.137372 -0.137372   \n",
       "...             ...        ...       ...       ...       ...       ...   \n",
       "18244     -0.137372  -0.137372 -0.137372 -0.137372 -0.137372 -0.137372   \n",
       "18245     -0.137372  -0.137372 -0.137372 -0.137372 -0.137372 -0.137372   \n",
       "18246     -0.137372  -0.137372 -0.137372 -0.137372 -0.137372 -0.137372   \n",
       "18247     -0.137372  -0.137372 -0.137372 -0.137372 -0.137372 -0.137372   \n",
       "18248     -0.137372  -0.137372 -0.137372 -0.137372 -0.137372 -0.137372   \n",
       "\n",
       "        TotalUS      West  WestTexNewMexico  \n",
       "0     -0.137372 -0.137372         -0.136750  \n",
       "1     -0.137372 -0.137372         -0.136750  \n",
       "2     -0.137372 -0.137372         -0.136750  \n",
       "3     -0.137372 -0.137372         -0.136750  \n",
       "4     -0.137372 -0.137372         -0.136750  \n",
       "...         ...       ...               ...  \n",
       "18244 -0.137372 -0.137372          7.312635  \n",
       "18245 -0.137372 -0.137372          7.312635  \n",
       "18246 -0.137372 -0.137372          7.312635  \n",
       "18247 -0.137372 -0.137372          7.312635  \n",
       "18248 -0.137372 -0.137372          7.312635  \n",
       "\n",
       "[18249 rows x 61 columns]"
      ]
     },
     "execution_count": 44,
     "metadata": {},
     "output_type": "execute_result"
    }
   ],
   "source": [
    "from sklearn.preprocessing import StandardScaler\n",
    "scaler = StandardScaler()\n",
    "X_arr = scaler.fit_transform(X)\n",
    "X = pd.DataFrame(X_arr, columns=X.columns)\n",
    "X"
   ]
  },
  {
   "cell_type": "markdown",
   "id": "dcc37919",
   "metadata": {},
   "source": [
    "### Train / Test split"
   ]
  },
  {
   "cell_type": "code",
   "execution_count": 45,
   "id": "4e6be685",
   "metadata": {},
   "outputs": [],
   "source": [
    "X_train, X_test, y_train, y_test = train_test_split(X, y, random_state=10, test_size=0.3)"
   ]
  },
  {
   "cell_type": "markdown",
   "id": "29c9e690",
   "metadata": {},
   "source": [
    "# Bước 4&5: Modeling & Evaluation/ Analyze & Report"
   ]
  },
  {
   "cell_type": "code",
   "execution_count": 46,
   "id": "aa773e27",
   "metadata": {},
   "outputs": [],
   "source": [
    "from sklearn.linear_model import LinearRegression\n",
    "from sklearn.neighbors import KNeighborsRegressor\n",
    "from sklearn.tree import DecisionTreeRegressor\n",
    "from sklearn.ensemble import RandomForestRegressor\n",
    "from sklearn.svm import SVR\n",
    "from sklearn.ensemble import ExtraTreesRegressor\n",
    "from xgboost import XGBRegressor\n",
    "from sklearn.metrics import mean_squared_error\n",
    "from sklearn.model_selection import cross_val_score\n",
    "from sklearn.preprocessing import StandardScaler\n",
    "from sklearn.preprocessing import Normalizer\n",
    "from sklearn.metrics import r2_score, mean_squared_error"
   ]
  },
  {
   "cell_type": "code",
   "execution_count": 47,
   "id": "71ce66be",
   "metadata": {},
   "outputs": [],
   "source": [
    "def rmse_score(y_true, y_pred):\n",
    "    return np.sqrt(mean_squared_error(y_true, y_pred))\n",
    "\n",
    "# Creating estimating function\n",
    "\n",
    "def get_metrics(model):\n",
    "    r2_list = []\n",
    "    rmse_list = []\n",
    "    r2 = model.score(X_test, y_test)\n",
    "    rmse = rmse_score(y_test, model.predict(X_test))\n",
    "    r2_list.append(r2)\n",
    "    rmse_list.append(rmse)\n",
    "    print('Cross validation score:', cross_val_score(model, X_train, y_train, cv=5).mean())\n",
    "    print('R2 score:', r2)\n",
    "    print('RMSE:', rmse)"
   ]
  },
  {
   "cell_type": "code",
   "execution_count": 48,
   "id": "fbb202cd",
   "metadata": {},
   "outputs": [],
   "source": [
    "# Liệt kê các model sử dụng\n",
    "models=[LinearRegression(), KNeighborsRegressor(), DecisionTreeRegressor(), RandomForestRegressor(),SVR(), ExtraTreesRegressor()]\n",
    "scores=[]\n",
    "train_times=[]\n",
    "names=[]\n"
   ]
  },
  {
   "cell_type": "code",
   "execution_count": null,
   "id": "f39402c3",
   "metadata": {},
   "outputs": [],
   "source": [
    "import time\n",
    "for model in models:\n",
    "    start=time.time()\n",
    "    scores.append(cross_val_score(model, X_train, y_train, scoring=\"r2\", cv=10).mean())\n",
    "    end=time.time()\n",
    "    train_times.append(end-start)\n",
    "    names.append(model.__class__.__name__)\n",
    "    \n",
    "df_score=pd.DataFrame(scores,columns=['Score'],index=range(len(models)))\n",
    "df_score.insert(1,'Time',pd.Series(train_times))\n",
    "df_score.insert(0,'Model',pd.Series(names))\n",
    "df_score"
   ]
  },
  {
   "cell_type": "markdown",
   "id": "db5829a3",
   "metadata": {},
   "source": [
    " Với kết quả trên chọn Model ExtraTreesRegressor vì Score cao hơn"
   ]
  },
  {
   "cell_type": "code",
   "execution_count": null,
   "id": "7fdf548b",
   "metadata": {},
   "outputs": [],
   "source": [
    "# create new model with adjustable parameters\n",
    "Etg = ExtraTreesRegressor(n_estimators=120, random_state=0).fit(X_train, y_train)"
   ]
  },
  {
   "cell_type": "code",
   "execution_count": null,
   "id": "6db73353",
   "metadata": {
    "scrolled": true
   },
   "outputs": [],
   "source": [
    "# evalute\n",
    "get_metrics(Etg)"
   ]
  },
  {
   "cell_type": "code",
   "execution_count": null,
   "id": "be269ff3",
   "metadata": {},
   "outputs": [],
   "source": [
    "yhat_train = Etg.predict(X_train)\n",
    "yhat_test = Etg.predict(X_test)\n",
    "# Test\n",
    "plt.figure(figsize=(12,10))\n",
    "sns.kdeplot(y_test, color='blue', label='Actual values')\n",
    "sns.kdeplot(yhat_test, color='red', label='predicted values')\n",
    "plt.legend()\n",
    "plt.title('True values & prediction', fontsize=20)\n",
    "plt.show()"
   ]
  },
  {
   "cell_type": "markdown",
   "id": "8b622310",
   "metadata": {},
   "source": [
    "ExtraTreeRegressor gives pretty good results. However, apply some other algorithms to see if it improves model performance more"
   ]
  },
  {
   "cell_type": "markdown",
   "id": "5ebcc3ab",
   "metadata": {},
   "source": [
    "#### Build model with XGbooot"
   ]
  },
  {
   "cell_type": "code",
   "execution_count": null,
   "id": "a1487eca",
   "metadata": {},
   "outputs": [],
   "source": [
    "# XGbooot\n",
    "xgb = XGBRegressor(n_estimators=100)\n",
    "xgb.fit(X_train, y_train)\n",
    "\n",
    "get_metrics(xgb)"
   ]
  },
  {
   "cell_type": "code",
   "execution_count": null,
   "id": "125b8045",
   "metadata": {},
   "outputs": [],
   "source": [
    "# visualization\n",
    "yhat_train = xgb.predict(X_train)\n",
    "yhat_test = xgb.predict(X_test)\n",
    "# Test\n",
    "sns.kdeplot(y_test, color='blue', label='Actual test values')\n",
    "sns.kdeplot(yhat_test, color='red', label='predicted test values')\n",
    "plt.legend\n",
    "plt.title('Test')\n",
    "plt.show()"
   ]
  },
  {
   "cell_type": "markdown",
   "id": "164ca021",
   "metadata": {},
   "source": [
    "#### Build model with CatBoostRegressor"
   ]
  },
  {
   "cell_type": "code",
   "execution_count": null,
   "id": "ebac9df2",
   "metadata": {},
   "outputs": [],
   "source": [
    "num_data=df_new.select_dtypes(include=['int64','float64'])\n",
    "num_data.head(1)"
   ]
  },
  {
   "cell_type": "code",
   "execution_count": null,
   "id": "3f004938",
   "metadata": {},
   "outputs": [],
   "source": [
    "cat_data=df_new.select_dtypes(include='object')\n",
    "cat_data.head()"
   ]
  },
  {
   "cell_type": "code",
   "execution_count": null,
   "id": "bf8bd525",
   "metadata": {},
   "outputs": [],
   "source": [
    "df_cat=pd.merge(cat_data,num_data,left_index=True,right_index=True)\n",
    "df_cat.head()"
   ]
  },
  {
   "cell_type": "code",
   "execution_count": null,
   "id": "e6d60d00",
   "metadata": {},
   "outputs": [],
   "source": [
    "x=df_cat.drop(columns='AveragePrice',axis=1)\n",
    "y=df_cat['AveragePrice']"
   ]
  },
  {
   "cell_type": "code",
   "execution_count": null,
   "id": "a93649ab",
   "metadata": {},
   "outputs": [],
   "source": [
    "cat_features=[0,1]"
   ]
  },
  {
   "cell_type": "code",
   "execution_count": null,
   "id": "a5aa8c62",
   "metadata": {},
   "outputs": [],
   "source": [
    "from catboost import CatBoostRegressor\n",
    "cat=CatBoostRegressor(cat_features=cat_features)"
   ]
  },
  {
   "cell_type": "code",
   "execution_count": null,
   "id": "c60a47ba",
   "metadata": {},
   "outputs": [],
   "source": [
    "from sklearn.model_selection import train_test_split\n",
    "x_train,x_test,y_train,y_test=train_test_split(x,y,test_size=0.3)"
   ]
  },
  {
   "cell_type": "code",
   "execution_count": null,
   "id": "db115825",
   "metadata": {},
   "outputs": [],
   "source": [
    "cat.fit(x_train, y_train)"
   ]
  },
  {
   "cell_type": "code",
   "execution_count": null,
   "id": "27e19030",
   "metadata": {},
   "outputs": [],
   "source": [
    "y_pred = cat.predict(x_test)\n",
    "y_pred"
   ]
  },
  {
   "cell_type": "code",
   "execution_count": null,
   "id": "70293a39",
   "metadata": {},
   "outputs": [],
   "source": [
    "from sklearn.metrics import r2_score,mean_squared_error\n",
    "r2_score(y_test,y_pred)"
   ]
  },
  {
   "cell_type": "code",
   "execution_count": null,
   "id": "3aa0f34b",
   "metadata": {},
   "outputs": [],
   "source": [
    "mean_squared_error(y_test,y_pred)"
   ]
  },
  {
   "cell_type": "markdown",
   "id": "ba052272",
   "metadata": {},
   "source": [
    "### Choice model with ExtraTreesRegressor & Save model"
   ]
  },
  {
   "cell_type": "code",
   "execution_count": null,
   "id": "4cbf65fb",
   "metadata": {
    "code_folding": []
   },
   "outputs": [],
   "source": [
    "import pickle\n",
    "# Save model\n",
    "pkl_filename = 'reg_model_avocado.pkl'\n",
    "with open(pkl_filename, 'wb') as file:  \n",
    "    pickle.dump(Etg, file)"
   ]
  },
  {
   "cell_type": "code",
   "execution_count": null,
   "id": "b3a3f057",
   "metadata": {},
   "outputs": [],
   "source": [
    "# Load model\n",
    "with open(pkl_filename, 'rb') as file:  \n",
    "    reg_model = pickle.load(file)"
   ]
  },
  {
   "cell_type": "code",
   "execution_count": null,
   "id": "6fcbb961",
   "metadata": {},
   "outputs": [],
   "source": [
    "reg_model"
   ]
  },
  {
   "cell_type": "code",
   "execution_count": null,
   "id": "f54a129b",
   "metadata": {},
   "outputs": [],
   "source": [
    "y_pred = reg_model.predict(X_test)\n",
    "y_pred"
   ]
  },
  {
   "cell_type": "code",
   "execution_count": null,
   "id": "e93beefe",
   "metadata": {},
   "outputs": [],
   "source": [
    "r2 = r2_score(y_pred, y_test)\n",
    "r2"
   ]
  },
  {
   "cell_type": "code",
   "execution_count": null,
   "id": "a3bb283e",
   "metadata": {},
   "outputs": [],
   "source": [
    "mae = mean_squared_error(y_pred, y_test)\n",
    "mae"
   ]
  },
  {
   "cell_type": "code",
   "execution_count": null,
   "id": "cb576977",
   "metadata": {},
   "outputs": [],
   "source": [
    "metrics = pd.DataFrame([{\n",
    "    'Model': 'ExtraTreesRegressor',\n",
    "    'r2_score': r2,\n",
    "    'MAE': mae\n",
    "}])\n",
    "metrics"
   ]
  },
  {
   "cell_type": "code",
   "execution_count": null,
   "id": "6fb0638d",
   "metadata": {},
   "outputs": [],
   "source": [
    "metrics.to_csv('metrics_res.txt')"
   ]
  },
  {
   "cell_type": "code",
   "execution_count": null,
   "id": "31ff0f47",
   "metadata": {},
   "outputs": [],
   "source": []
  }
 ],
 "metadata": {
  "kernelspec": {
   "display_name": "Python 3 (ipykernel)",
   "language": "python",
   "name": "python3"
  },
  "language_info": {
   "codemirror_mode": {
    "name": "ipython",
    "version": 3
   },
   "file_extension": ".py",
   "mimetype": "text/x-python",
   "name": "python",
   "nbconvert_exporter": "python",
   "pygments_lexer": "ipython3",
   "version": "3.10.2"
  }
 },
 "nbformat": 4,
 "nbformat_minor": 5
}
